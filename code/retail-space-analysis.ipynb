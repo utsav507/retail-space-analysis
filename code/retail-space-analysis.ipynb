{
 "cells": [
  {
   "cell_type": "markdown",
   "metadata": {},
   "source": [
    "# Retail Space Analysis Project"
   ]
  },
  {
   "cell_type": "code",
   "execution_count": 558,
   "metadata": {},
   "outputs": [],
   "source": [
    "# Importing Python libraries\n",
    "\n",
    "import pandas as pd\n",
    "from pandasql import sqldf\n",
    "import matplotlib.pyplot as plt\n",
    "import seaborn as sns\n",
    "import numpy as np\n",
    "\n",
    "# Setting the output decimal to 3 places\n",
    "\n",
    "# pd.set_option('display.precision',2) \n",
    "pd.set_option('display.float_format', lambda x: '%.3f' % x) # can view non-scientic numbers in output"
   ]
  },
  {
   "cell_type": "code",
   "execution_count": 488,
   "metadata": {},
   "outputs": [],
   "source": [
    "# Defining a function called pysqldf to make it easier to run SQL queries  \n",
    "# and view results without writing entire syntax every time\n",
    "\n",
    "pysqldf = lambda q: sqldf(q, globals())"
   ]
  },
  {
   "cell_type": "markdown",
   "metadata": {},
   "source": [
    "## Data Wrangling"
   ]
  },
  {
   "cell_type": "code",
   "execution_count": 489,
   "metadata": {},
   "outputs": [],
   "source": [
    "# Reading CSV dataset into Pandas dataframe\n",
    "\n",
    "retail_df = pd.read_csv(\"data/retail_space_dataset_2019.csv\")"
   ]
  },
  {
   "cell_type": "code",
   "execution_count": 490,
   "metadata": {},
   "outputs": [
    {
     "data": {
      "text/html": [
       "<div>\n",
       "<style scoped>\n",
       "    .dataframe tbody tr th:only-of-type {\n",
       "        vertical-align: middle;\n",
       "    }\n",
       "\n",
       "    .dataframe tbody tr th {\n",
       "        vertical-align: top;\n",
       "    }\n",
       "\n",
       "    .dataframe thead th {\n",
       "        text-align: right;\n",
       "    }\n",
       "</style>\n",
       "<table border=\"1\" class=\"dataframe\">\n",
       "  <thead>\n",
       "    <tr style=\"text-align: right;\">\n",
       "      <th></th>\n",
       "      <th>Location number</th>\n",
       "      <th>Month</th>\n",
       "      <th>State</th>\n",
       "      <th>Gross revenue</th>\n",
       "      <th>Fixed cost</th>\n",
       "      <th>Variable cost</th>\n",
       "      <th>Rental cost</th>\n",
       "      <th>Number of products</th>\n",
       "      <th>Owned</th>\n",
       "    </tr>\n",
       "  </thead>\n",
       "  <tbody>\n",
       "    <tr>\n",
       "      <th>0</th>\n",
       "      <td>1</td>\n",
       "      <td>1</td>\n",
       "      <td>TX</td>\n",
       "      <td>48628171.020</td>\n",
       "      <td>9218156.690</td>\n",
       "      <td>24278189.230</td>\n",
       "      <td>365880</td>\n",
       "      <td>4452</td>\n",
       "      <td>False</td>\n",
       "    </tr>\n",
       "    <tr>\n",
       "      <th>1</th>\n",
       "      <td>1</td>\n",
       "      <td>2</td>\n",
       "      <td>TX</td>\n",
       "      <td>48107179.240</td>\n",
       "      <td>10587747.350</td>\n",
       "      <td>25116844.410</td>\n",
       "      <td>365880</td>\n",
       "      <td>4452</td>\n",
       "      <td>False</td>\n",
       "    </tr>\n",
       "    <tr>\n",
       "      <th>2</th>\n",
       "      <td>1</td>\n",
       "      <td>3</td>\n",
       "      <td>TX</td>\n",
       "      <td>64352278.290</td>\n",
       "      <td>10193873.770</td>\n",
       "      <td>33703499.830</td>\n",
       "      <td>365880</td>\n",
       "      <td>4452</td>\n",
       "      <td>False</td>\n",
       "    </tr>\n",
       "    <tr>\n",
       "      <th>3</th>\n",
       "      <td>1</td>\n",
       "      <td>4</td>\n",
       "      <td>TX</td>\n",
       "      <td>45943677.960</td>\n",
       "      <td>8764165.000</td>\n",
       "      <td>24037719.470</td>\n",
       "      <td>365880</td>\n",
       "      <td>4452</td>\n",
       "      <td>False</td>\n",
       "    </tr>\n",
       "    <tr>\n",
       "      <th>4</th>\n",
       "      <td>1</td>\n",
       "      <td>5</td>\n",
       "      <td>TX</td>\n",
       "      <td>32761434.980</td>\n",
       "      <td>8022116.430</td>\n",
       "      <td>16432119.180</td>\n",
       "      <td>365880</td>\n",
       "      <td>4452</td>\n",
       "      <td>False</td>\n",
       "    </tr>\n",
       "  </tbody>\n",
       "</table>\n",
       "</div>"
      ],
      "text/plain": [
       "   Location number  Month State  Gross revenue   Fixed cost  Variable cost  \\\n",
       "0                1      1    TX   48628171.020  9218156.690   24278189.230   \n",
       "1                1      2    TX   48107179.240 10587747.350   25116844.410   \n",
       "2                1      3    TX   64352278.290 10193873.770   33703499.830   \n",
       "3                1      4    TX   45943677.960  8764165.000   24037719.470   \n",
       "4                1      5    TX   32761434.980  8022116.430   16432119.180   \n",
       "\n",
       "   Rental cost  Number of products  Owned  \n",
       "0       365880                4452  False  \n",
       "1       365880                4452  False  \n",
       "2       365880                4452  False  \n",
       "3       365880                4452  False  \n",
       "4       365880                4452  False  "
      ]
     },
     "execution_count": 490,
     "metadata": {},
     "output_type": "execute_result"
    }
   ],
   "source": [
    "# Viewing first 10 rows of dataframe\n",
    "\n",
    "retail_df.head(5)"
   ]
  },
  {
   "cell_type": "code",
   "execution_count": 491,
   "metadata": {},
   "outputs": [],
   "source": [
    "# Renaming column names of raw dataset so can be easily used in SQL queries if needed\n",
    "\n",
    "retail_df.columns = ['location_num', 'month', 'state', 'gross_rev', 'fixed_cost', 'variable_cost', 'rental_cost', 'num_of_prod', 'owned']"
   ]
  },
  {
   "cell_type": "code",
   "execution_count": 492,
   "metadata": {},
   "outputs": [
    {
     "data": {
      "text/html": [
       "<div>\n",
       "<style scoped>\n",
       "    .dataframe tbody tr th:only-of-type {\n",
       "        vertical-align: middle;\n",
       "    }\n",
       "\n",
       "    .dataframe tbody tr th {\n",
       "        vertical-align: top;\n",
       "    }\n",
       "\n",
       "    .dataframe thead th {\n",
       "        text-align: right;\n",
       "    }\n",
       "</style>\n",
       "<table border=\"1\" class=\"dataframe\">\n",
       "  <thead>\n",
       "    <tr style=\"text-align: right;\">\n",
       "      <th></th>\n",
       "      <th>location_num</th>\n",
       "      <th>month</th>\n",
       "      <th>state</th>\n",
       "      <th>gross_rev</th>\n",
       "      <th>fixed_cost</th>\n",
       "      <th>variable_cost</th>\n",
       "      <th>rental_cost</th>\n",
       "      <th>num_of_prod</th>\n",
       "      <th>owned</th>\n",
       "    </tr>\n",
       "  </thead>\n",
       "  <tbody>\n",
       "    <tr>\n",
       "      <th>0</th>\n",
       "      <td>1</td>\n",
       "      <td>1</td>\n",
       "      <td>TX</td>\n",
       "      <td>48628171.020</td>\n",
       "      <td>9218156.690</td>\n",
       "      <td>24278189.230</td>\n",
       "      <td>365880</td>\n",
       "      <td>4452</td>\n",
       "      <td>0</td>\n",
       "    </tr>\n",
       "    <tr>\n",
       "      <th>1</th>\n",
       "      <td>1</td>\n",
       "      <td>2</td>\n",
       "      <td>TX</td>\n",
       "      <td>48107179.240</td>\n",
       "      <td>10587747.350</td>\n",
       "      <td>25116844.410</td>\n",
       "      <td>365880</td>\n",
       "      <td>4452</td>\n",
       "      <td>0</td>\n",
       "    </tr>\n",
       "    <tr>\n",
       "      <th>2</th>\n",
       "      <td>1</td>\n",
       "      <td>3</td>\n",
       "      <td>TX</td>\n",
       "      <td>64352278.290</td>\n",
       "      <td>10193873.770</td>\n",
       "      <td>33703499.830</td>\n",
       "      <td>365880</td>\n",
       "      <td>4452</td>\n",
       "      <td>0</td>\n",
       "    </tr>\n",
       "    <tr>\n",
       "      <th>3</th>\n",
       "      <td>1</td>\n",
       "      <td>4</td>\n",
       "      <td>TX</td>\n",
       "      <td>45943677.960</td>\n",
       "      <td>8764165.000</td>\n",
       "      <td>24037719.470</td>\n",
       "      <td>365880</td>\n",
       "      <td>4452</td>\n",
       "      <td>0</td>\n",
       "    </tr>\n",
       "    <tr>\n",
       "      <th>4</th>\n",
       "      <td>1</td>\n",
       "      <td>5</td>\n",
       "      <td>TX</td>\n",
       "      <td>32761434.980</td>\n",
       "      <td>8022116.430</td>\n",
       "      <td>16432119.180</td>\n",
       "      <td>365880</td>\n",
       "      <td>4452</td>\n",
       "      <td>0</td>\n",
       "    </tr>\n",
       "  </tbody>\n",
       "</table>\n",
       "</div>"
      ],
      "text/plain": [
       "   location_num  month state    gross_rev   fixed_cost  variable_cost  \\\n",
       "0             1      1    TX 48628171.020  9218156.690   24278189.230   \n",
       "1             1      2    TX 48107179.240 10587747.350   25116844.410   \n",
       "2             1      3    TX 64352278.290 10193873.770   33703499.830   \n",
       "3             1      4    TX 45943677.960  8764165.000   24037719.470   \n",
       "4             1      5    TX 32761434.980  8022116.430   16432119.180   \n",
       "\n",
       "   rental_cost  num_of_prod  owned  \n",
       "0       365880         4452      0  \n",
       "1       365880         4452      0  \n",
       "2       365880         4452      0  \n",
       "3       365880         4452      0  \n",
       "4       365880         4452      0  "
      ]
     },
     "execution_count": 492,
     "metadata": {},
     "output_type": "execute_result"
    }
   ],
   "source": [
    "# Converting boolean field Owned to Integer\n",
    "\n",
    "retail_df.owned = retail_df.owned.astype(int)\n",
    "retail_df.head(5)"
   ]
  },
  {
   "cell_type": "code",
   "execution_count": 493,
   "metadata": {},
   "outputs": [
    {
     "name": "stdout",
     "output_type": "stream",
     "text": [
      "   location_num  month state    gross_rev   fixed_cost  variable_cost  \\\n",
      "0             1      1    TX 48628171.020  9218156.690   24278189.230   \n",
      "1             1      2    TX 48107179.240 10587747.350   25116844.410   \n",
      "2             1      3    TX 64352278.290 10193873.770   33703499.830   \n",
      "3             1      4    TX 45943677.960  8764165.000   24037719.470   \n",
      "4             1      5    TX 32761434.980  8022116.430   16432119.180   \n",
      "\n",
      "   rental_cost  num_of_prod  owned  \n",
      "0       365880         4452      0  \n",
      "1       365880         4452      0  \n",
      "2       365880         4452      0  \n",
      "3       365880         4452      0  \n",
      "4       365880         4452      0  \n"
     ]
    }
   ],
   "source": [
    "# Running SQL query to view top 5 records of dataset\n",
    "\n",
    "print(pysqldf(\"SELECT * FROM retail_df LIMIT 100\").head(5))"
   ]
  },
  {
   "cell_type": "markdown",
   "metadata": {},
   "source": [
    "## Part 1 - Summary Statistics and Plots"
   ]
  },
  {
   "cell_type": "markdown",
   "metadata": {},
   "source": [
    "### 1) Looking across all locations, calculate the mean and median annual profit margin of a typical store. Does the profit margin across locations appear normally distributed? Please visualize."
   ]
  },
  {
   "cell_type": "code",
   "execution_count": 494,
   "metadata": {},
   "outputs": [
    {
     "data": {
      "text/html": [
       "<div>\n",
       "<style scoped>\n",
       "    .dataframe tbody tr th:only-of-type {\n",
       "        vertical-align: middle;\n",
       "    }\n",
       "\n",
       "    .dataframe tbody tr th {\n",
       "        vertical-align: top;\n",
       "    }\n",
       "\n",
       "    .dataframe thead th {\n",
       "        text-align: right;\n",
       "    }\n",
       "</style>\n",
       "<table border=\"1\" class=\"dataframe\">\n",
       "  <thead>\n",
       "    <tr style=\"text-align: right;\">\n",
       "      <th></th>\n",
       "      <th>location_num</th>\n",
       "      <th>month</th>\n",
       "      <th>state</th>\n",
       "      <th>gross_rev</th>\n",
       "      <th>fixed_cost</th>\n",
       "      <th>variable_cost</th>\n",
       "      <th>rental_cost</th>\n",
       "      <th>num_of_prod</th>\n",
       "      <th>owned</th>\n",
       "      <th>profit</th>\n",
       "    </tr>\n",
       "  </thead>\n",
       "  <tbody>\n",
       "    <tr>\n",
       "      <th>0</th>\n",
       "      <td>1</td>\n",
       "      <td>1</td>\n",
       "      <td>TX</td>\n",
       "      <td>48628171.020</td>\n",
       "      <td>9218156.690</td>\n",
       "      <td>24278189.230</td>\n",
       "      <td>365880</td>\n",
       "      <td>4452</td>\n",
       "      <td>0</td>\n",
       "      <td>14765945.100</td>\n",
       "    </tr>\n",
       "    <tr>\n",
       "      <th>1</th>\n",
       "      <td>1</td>\n",
       "      <td>2</td>\n",
       "      <td>TX</td>\n",
       "      <td>48107179.240</td>\n",
       "      <td>10587747.350</td>\n",
       "      <td>25116844.410</td>\n",
       "      <td>365880</td>\n",
       "      <td>4452</td>\n",
       "      <td>0</td>\n",
       "      <td>12036707.480</td>\n",
       "    </tr>\n",
       "    <tr>\n",
       "      <th>2</th>\n",
       "      <td>1</td>\n",
       "      <td>3</td>\n",
       "      <td>TX</td>\n",
       "      <td>64352278.290</td>\n",
       "      <td>10193873.770</td>\n",
       "      <td>33703499.830</td>\n",
       "      <td>365880</td>\n",
       "      <td>4452</td>\n",
       "      <td>0</td>\n",
       "      <td>20089024.690</td>\n",
       "    </tr>\n",
       "    <tr>\n",
       "      <th>3</th>\n",
       "      <td>1</td>\n",
       "      <td>4</td>\n",
       "      <td>TX</td>\n",
       "      <td>45943677.960</td>\n",
       "      <td>8764165.000</td>\n",
       "      <td>24037719.470</td>\n",
       "      <td>365880</td>\n",
       "      <td>4452</td>\n",
       "      <td>0</td>\n",
       "      <td>12775913.490</td>\n",
       "    </tr>\n",
       "    <tr>\n",
       "      <th>4</th>\n",
       "      <td>1</td>\n",
       "      <td>5</td>\n",
       "      <td>TX</td>\n",
       "      <td>32761434.980</td>\n",
       "      <td>8022116.430</td>\n",
       "      <td>16432119.180</td>\n",
       "      <td>365880</td>\n",
       "      <td>4452</td>\n",
       "      <td>0</td>\n",
       "      <td>7941319.370</td>\n",
       "    </tr>\n",
       "  </tbody>\n",
       "</table>\n",
       "</div>"
      ],
      "text/plain": [
       "   location_num  month state    gross_rev   fixed_cost  variable_cost  \\\n",
       "0             1      1    TX 48628171.020  9218156.690   24278189.230   \n",
       "1             1      2    TX 48107179.240 10587747.350   25116844.410   \n",
       "2             1      3    TX 64352278.290 10193873.770   33703499.830   \n",
       "3             1      4    TX 45943677.960  8764165.000   24037719.470   \n",
       "4             1      5    TX 32761434.980  8022116.430   16432119.180   \n",
       "\n",
       "   rental_cost  num_of_prod  owned       profit  \n",
       "0       365880         4452      0 14765945.100  \n",
       "1       365880         4452      0 12036707.480  \n",
       "2       365880         4452      0 20089024.690  \n",
       "3       365880         4452      0 12775913.490  \n",
       "4       365880         4452      0  7941319.370  "
      ]
     },
     "execution_count": 494,
     "metadata": {},
     "output_type": "execute_result"
    }
   ],
   "source": [
    "# Calculating Profit Margin as Gross Revenue - Fixed Cost - Variable Cost - Rental Cost\n",
    "\n",
    "retail_df['profit'] = retail_df['gross_rev'] - retail_df['fixed_cost'] - retail_df['variable_cost'] - retail_df['rental_cost']\n",
    "retail_df.head(5)"
   ]
  },
  {
   "cell_type": "code",
   "execution_count": 495,
   "metadata": {},
   "outputs": [
    {
     "data": {
      "text/html": [
       "<div>\n",
       "<style scoped>\n",
       "    .dataframe tbody tr th:only-of-type {\n",
       "        vertical-align: middle;\n",
       "    }\n",
       "\n",
       "    .dataframe tbody tr th {\n",
       "        vertical-align: top;\n",
       "    }\n",
       "\n",
       "    .dataframe thead th {\n",
       "        text-align: right;\n",
       "    }\n",
       "</style>\n",
       "<table border=\"1\" class=\"dataframe\">\n",
       "  <thead>\n",
       "    <tr style=\"text-align: right;\">\n",
       "      <th></th>\n",
       "      <th>location_num</th>\n",
       "      <th>month</th>\n",
       "      <th>gross_rev</th>\n",
       "      <th>fixed_cost</th>\n",
       "      <th>variable_cost</th>\n",
       "      <th>rental_cost</th>\n",
       "      <th>num_of_prod</th>\n",
       "      <th>owned</th>\n",
       "      <th>profit</th>\n",
       "    </tr>\n",
       "  </thead>\n",
       "  <tbody>\n",
       "    <tr>\n",
       "      <th>count</th>\n",
       "      <td>3996.000</td>\n",
       "      <td>3996.000</td>\n",
       "      <td>3996.000</td>\n",
       "      <td>3996.000</td>\n",
       "      <td>3996.000</td>\n",
       "      <td>3996.000</td>\n",
       "      <td>3996.000</td>\n",
       "      <td>3996.000</td>\n",
       "      <td>3996.000</td>\n",
       "    </tr>\n",
       "    <tr>\n",
       "      <th>mean</th>\n",
       "      <td>167.000</td>\n",
       "      <td>6.500</td>\n",
       "      <td>30091813.399</td>\n",
       "      <td>6248363.348</td>\n",
       "      <td>15741274.667</td>\n",
       "      <td>147721.231</td>\n",
       "      <td>4510.979</td>\n",
       "      <td>0.108</td>\n",
       "      <td>7954454.152</td>\n",
       "    </tr>\n",
       "    <tr>\n",
       "      <th>std</th>\n",
       "      <td>96.140</td>\n",
       "      <td>3.452</td>\n",
       "      <td>16563743.098</td>\n",
       "      <td>2745097.051</td>\n",
       "      <td>8587853.641</td>\n",
       "      <td>112552.593</td>\n",
       "      <td>135.178</td>\n",
       "      <td>0.311</td>\n",
       "      <td>5806777.236</td>\n",
       "    </tr>\n",
       "    <tr>\n",
       "      <th>min</th>\n",
       "      <td>1.000</td>\n",
       "      <td>1.000</td>\n",
       "      <td>3307785.286</td>\n",
       "      <td>574331.810</td>\n",
       "      <td>1644293.780</td>\n",
       "      <td>0.000</td>\n",
       "      <td>3810.000</td>\n",
       "      <td>0.000</td>\n",
       "      <td>-7668159.830</td>\n",
       "    </tr>\n",
       "    <tr>\n",
       "      <th>25%</th>\n",
       "      <td>84.000</td>\n",
       "      <td>3.750</td>\n",
       "      <td>18828097.705</td>\n",
       "      <td>4471979.438</td>\n",
       "      <td>9915176.515</td>\n",
       "      <td>73940.000</td>\n",
       "      <td>4431.000</td>\n",
       "      <td>0.000</td>\n",
       "      <td>3966817.045</td>\n",
       "    </tr>\n",
       "    <tr>\n",
       "      <th>50%</th>\n",
       "      <td>167.000</td>\n",
       "      <td>6.500</td>\n",
       "      <td>26314156.120</td>\n",
       "      <td>5618381.580</td>\n",
       "      <td>13700273.115</td>\n",
       "      <td>130970.000</td>\n",
       "      <td>4527.000</td>\n",
       "      <td>0.000</td>\n",
       "      <td>6748051.555</td>\n",
       "    </tr>\n",
       "    <tr>\n",
       "      <th>75%</th>\n",
       "      <td>250.000</td>\n",
       "      <td>9.250</td>\n",
       "      <td>37271728.935</td>\n",
       "      <td>7246045.622</td>\n",
       "      <td>19206266.438</td>\n",
       "      <td>195840.000</td>\n",
       "      <td>4594.000</td>\n",
       "      <td>0.000</td>\n",
       "      <td>10463479.845</td>\n",
       "    </tr>\n",
       "    <tr>\n",
       "      <th>max</th>\n",
       "      <td>333.000</td>\n",
       "      <td>12.000</td>\n",
       "      <td>118458181.300</td>\n",
       "      <td>23060518.510</td>\n",
       "      <td>59314880.570</td>\n",
       "      <td>689750.000</td>\n",
       "      <td>4789.000</td>\n",
       "      <td>1.000</td>\n",
       "      <td>43228289.540</td>\n",
       "    </tr>\n",
       "  </tbody>\n",
       "</table>\n",
       "</div>"
      ],
      "text/plain": [
       "       location_num    month     gross_rev   fixed_cost  variable_cost  \\\n",
       "count      3996.000 3996.000      3996.000     3996.000       3996.000   \n",
       "mean        167.000    6.500  30091813.399  6248363.348   15741274.667   \n",
       "std          96.140    3.452  16563743.098  2745097.051    8587853.641   \n",
       "min           1.000    1.000   3307785.286   574331.810    1644293.780   \n",
       "25%          84.000    3.750  18828097.705  4471979.438    9915176.515   \n",
       "50%         167.000    6.500  26314156.120  5618381.580   13700273.115   \n",
       "75%         250.000    9.250  37271728.935  7246045.622   19206266.438   \n",
       "max         333.000   12.000 118458181.300 23060518.510   59314880.570   \n",
       "\n",
       "       rental_cost  num_of_prod    owned       profit  \n",
       "count     3996.000     3996.000 3996.000     3996.000  \n",
       "mean    147721.231     4510.979    0.108  7954454.152  \n",
       "std     112552.593      135.178    0.311  5806777.236  \n",
       "min          0.000     3810.000    0.000 -7668159.830  \n",
       "25%      73940.000     4431.000    0.000  3966817.045  \n",
       "50%     130970.000     4527.000    0.000  6748051.555  \n",
       "75%     195840.000     4594.000    0.000 10463479.845  \n",
       "max     689750.000     4789.000    1.000 43228289.540  "
      ]
     },
     "execution_count": 495,
     "metadata": {},
     "output_type": "execute_result"
    }
   ],
   "source": [
    "# Using describe function to view stats of raw dataset\n",
    "\n",
    "retail_df.describe()"
   ]
  },
  {
   "cell_type": "code",
   "execution_count": 496,
   "metadata": {},
   "outputs": [
    {
     "data": {
      "text/html": [
       "<div>\n",
       "<style scoped>\n",
       "    .dataframe tbody tr th:only-of-type {\n",
       "        vertical-align: middle;\n",
       "    }\n",
       "\n",
       "    .dataframe tbody tr th {\n",
       "        vertical-align: top;\n",
       "    }\n",
       "\n",
       "    .dataframe thead th {\n",
       "        text-align: right;\n",
       "    }\n",
       "</style>\n",
       "<table border=\"1\" class=\"dataframe\">\n",
       "  <thead>\n",
       "    <tr style=\"text-align: right;\">\n",
       "      <th></th>\n",
       "      <th>profit</th>\n",
       "    </tr>\n",
       "    <tr>\n",
       "      <th>location_num</th>\n",
       "      <th></th>\n",
       "    </tr>\n",
       "  </thead>\n",
       "  <tbody>\n",
       "    <tr>\n",
       "      <th>1</th>\n",
       "      <td>12507001.504</td>\n",
       "    </tr>\n",
       "    <tr>\n",
       "      <th>2</th>\n",
       "      <td>7382226.997</td>\n",
       "    </tr>\n",
       "    <tr>\n",
       "      <th>3</th>\n",
       "      <td>6887181.659</td>\n",
       "    </tr>\n",
       "    <tr>\n",
       "      <th>4</th>\n",
       "      <td>4578624.067</td>\n",
       "    </tr>\n",
       "    <tr>\n",
       "      <th>5</th>\n",
       "      <td>3300148.209</td>\n",
       "    </tr>\n",
       "  </tbody>\n",
       "</table>\n",
       "</div>"
      ],
      "text/plain": [
       "                   profit\n",
       "location_num             \n",
       "1            12507001.504\n",
       "2             7382226.997\n",
       "3             6887181.659\n",
       "4             4578624.067\n",
       "5             3300148.209"
      ]
     },
     "execution_count": 496,
     "metadata": {},
     "output_type": "execute_result"
    }
   ],
   "source": [
    "# Calculating Mean of Profit by Location number\n",
    "\n",
    "profit_mean = retail_df.groupby(['location_num']).mean()[['profit']]\n",
    "profit_mean.head(5)"
   ]
  },
  {
   "cell_type": "code",
   "execution_count": 511,
   "metadata": {},
   "outputs": [
    {
     "data": {
      "text/plain": [
       "<matplotlib.axes._subplots.AxesSubplot at 0x1a36461978>"
      ]
     },
     "execution_count": 511,
     "metadata": {},
     "output_type": "execute_result"
    },
    {
     "data": {
      "image/png": "[encoded data removed]",
      "text/plain": [
       "<Figure size 1080x360 with 1 Axes>"
      ]
     },
     "metadata": {
      "needs_background": "light"
     },
     "output_type": "display_data"
    }
   ],
   "source": [
    "# Visualizing Mean of Profit  \n",
    "\n",
    "# profit_mean.hist(figsize=(15,5))\n",
    "# plt.show()\n",
    "profit_mean.plot(figsize=(15,5), kind='line')"
   ]
  },
  {
   "cell_type": "code",
   "execution_count": 498,
   "metadata": {},
   "outputs": [
    {
     "data": {
      "text/html": [
       "<div>\n",
       "<style scoped>\n",
       "    .dataframe tbody tr th:only-of-type {\n",
       "        vertical-align: middle;\n",
       "    }\n",
       "\n",
       "    .dataframe tbody tr th {\n",
       "        vertical-align: top;\n",
       "    }\n",
       "\n",
       "    .dataframe thead th {\n",
       "        text-align: right;\n",
       "    }\n",
       "</style>\n",
       "<table border=\"1\" class=\"dataframe\">\n",
       "  <thead>\n",
       "    <tr style=\"text-align: right;\">\n",
       "      <th></th>\n",
       "      <th>profit</th>\n",
       "    </tr>\n",
       "    <tr>\n",
       "      <th>location_num</th>\n",
       "      <th></th>\n",
       "    </tr>\n",
       "  </thead>\n",
       "  <tbody>\n",
       "    <tr>\n",
       "      <th>1</th>\n",
       "      <td>12406310.485</td>\n",
       "    </tr>\n",
       "    <tr>\n",
       "      <th>2</th>\n",
       "      <td>6810855.650</td>\n",
       "    </tr>\n",
       "    <tr>\n",
       "      <th>3</th>\n",
       "      <td>7159084.610</td>\n",
       "    </tr>\n",
       "    <tr>\n",
       "      <th>4</th>\n",
       "      <td>4262322.055</td>\n",
       "    </tr>\n",
       "    <tr>\n",
       "      <th>5</th>\n",
       "      <td>3502487.570</td>\n",
       "    </tr>\n",
       "  </tbody>\n",
       "</table>\n",
       "</div>"
      ],
      "text/plain": [
       "                   profit\n",
       "location_num             \n",
       "1            12406310.485\n",
       "2             6810855.650\n",
       "3             7159084.610\n",
       "4             4262322.055\n",
       "5             3502487.570"
      ]
     },
     "execution_count": 498,
     "metadata": {},
     "output_type": "execute_result"
    }
   ],
   "source": [
    "# Calculating Median of Profit by Location number\n",
    "\n",
    "profit_median = retail_df.groupby(['location_num']).median()[['profit']]\n",
    "profit_median.head(5)"
   ]
  },
  {
   "cell_type": "code",
   "execution_count": 512,
   "metadata": {},
   "outputs": [
    {
     "data": {
      "text/plain": [
       "<matplotlib.axes._subplots.AxesSubplot at 0x1a364cd4e0>"
      ]
     },
     "execution_count": 512,
     "metadata": {},
     "output_type": "execute_result"
    },
    {
     "data": {
      "image/png": "[encoded data removed]",
      "text/plain": [
       "<Figure size 1080x360 with 1 Axes>"
      ]
     },
     "metadata": {
      "needs_background": "light"
     },
     "output_type": "display_data"
    }
   ],
   "source": [
    "# Visualizing Median of Profit  \n",
    "\n",
    "# profit_median.hist(figsize=(15,5))\n",
    "# plt.show() \n",
    "profit_median.plot(figsize=(15,5), kind='line')"
   ]
  },
  {
   "cell_type": "code",
   "execution_count": 529,
   "metadata": {},
   "outputs": [
    {
     "data": {
      "text/html": [
       "<div>\n",
       "<style scoped>\n",
       "    .dataframe tbody tr th:only-of-type {\n",
       "        vertical-align: middle;\n",
       "    }\n",
       "\n",
       "    .dataframe tbody tr th {\n",
       "        vertical-align: top;\n",
       "    }\n",
       "\n",
       "    .dataframe thead th {\n",
       "        text-align: right;\n",
       "    }\n",
       "</style>\n",
       "<table border=\"1\" class=\"dataframe\">\n",
       "  <thead>\n",
       "    <tr style=\"text-align: right;\">\n",
       "      <th></th>\n",
       "      <th>profit</th>\n",
       "    </tr>\n",
       "    <tr>\n",
       "      <th>location_num</th>\n",
       "      <th></th>\n",
       "    </tr>\n",
       "  </thead>\n",
       "  <tbody>\n",
       "    <tr>\n",
       "      <th>1</th>\n",
       "      <td>150084018.050</td>\n",
       "    </tr>\n",
       "    <tr>\n",
       "      <th>2</th>\n",
       "      <td>88586723.970</td>\n",
       "    </tr>\n",
       "    <tr>\n",
       "      <th>3</th>\n",
       "      <td>82646179.910</td>\n",
       "    </tr>\n",
       "    <tr>\n",
       "      <th>4</th>\n",
       "      <td>54943488.800</td>\n",
       "    </tr>\n",
       "    <tr>\n",
       "      <th>5</th>\n",
       "      <td>39601778.510</td>\n",
       "    </tr>\n",
       "  </tbody>\n",
       "</table>\n",
       "</div>"
      ],
      "text/plain": [
       "                    profit\n",
       "location_num              \n",
       "1            150084018.050\n",
       "2             88586723.970\n",
       "3             82646179.910\n",
       "4             54943488.800\n",
       "5             39601778.510"
      ]
     },
     "execution_count": 529,
     "metadata": {},
     "output_type": "execute_result"
    }
   ],
   "source": [
    "# Aggregating Profit by Location number\n",
    "\n",
    "profit = retail_df.groupby(['location_num']).sum()[['profit']]\n",
    "profit.head(5)"
   ]
  },
  {
   "cell_type": "code",
   "execution_count": 531,
   "metadata": {},
   "outputs": [
    {
     "data": {
      "text/plain": [
       "<matplotlib.axes._subplots.AxesSubplot at 0x1a3d0bce48>"
      ]
     },
     "execution_count": 531,
     "metadata": {},
     "output_type": "execute_result"
    },
    {
     "data": {
      "image/png": "[encoded data removed]",
      "text/plain": [
       "<Figure size 1080x360 with 1 Axes>"
      ]
     },
     "metadata": {
      "needs_background": "light"
     },
     "output_type": "display_data"
    }
   ],
   "source": [
    "# Visualizing Profit by Location Number  \n",
    "\n",
    "profit.plot(figsize=(15,5), kind='line')"
   ]
  },
  {
   "cell_type": "code",
   "execution_count": 551,
   "metadata": {},
   "outputs": [
    {
     "data": {
      "text/plain": [
       "<matplotlib.axes._subplots.AxesSubplot at 0x1a3e79cda0>"
      ]
     },
     "execution_count": 551,
     "metadata": {},
     "output_type": "execute_result"
    },
    {
     "data": {
      "image/png": "[encoded data removed]",
      "text/plain": [
       "<Figure size 432x288 with 1 Axes>"
      ]
     },
     "metadata": {
      "needs_background": "light"
     },
     "output_type": "display_data"
    }
   ],
   "source": [
    "# Visualizaing Profit Margins Across Locations in a Distribution Plot\n",
    "\n",
    "sns.distplot(profit['profit'], hist=True, kde=True, \n",
    "             bins=int(333), color = 'darkblue', \n",
    "             hist_kws={'edgecolor':'black'},\n",
    "             kde_kws={'linewidth': 4}, \n",
    "             axlabel='Profit Margins across Locations')"
   ]
  },
  {
   "cell_type": "code",
   "execution_count": 723,
   "metadata": {},
   "outputs": [
    {
     "data": {
      "image/png": "[encoded data removed]",
      "text/plain": [
       "<Figure size 432x288 with 1 Axes>"
      ]
     },
     "metadata": {
      "needs_background": "light"
     },
     "output_type": "display_data"
    }
   ],
   "source": [
    "# QQ Plot Imports\n",
    "from numpy.random import seed\n",
    "from numpy.random import randn\n",
    "from statsmodels.graphics.gofplots import qqplot\n",
    "from matplotlib import pyplot\n",
    "\n",
    "# Creating subset for prodit margins across locations and storing it in pf\n",
    "pf = pysqldf(\"SELECT location_num, SUM(profit) AS profit FROM retail_df GROUP BY location_num\")\n",
    "\n",
    "# q-q plot\n",
    "qqplot(pf['profit'], line='s')\n",
    "pyplot.show()\n",
    "\n",
    "# # q-q plot\n",
    "# qqplot(profit['profit'], line='s')\n",
    "# pyplot.show()"
   ]
  },
  {
   "cell_type": "markdown",
   "metadata": {},
   "source": [
    "The Shapiro-Wilk Test will return two things:\n",
    "\n",
    "Statistic: A quantity calculated by the test that can be interpreted in the context of the test via comparing it to critical values from the distribution of the test statistic.\n",
    "\n",
    "p-value: Used to interpret the test - each test calculates a test-specific statistic. The p-value can be used to quickly and accurately interpret the statistic in this application.\n",
    "\n",
    "The tests assume that that the sample was drawn from a Gaussian distribution. Technically this is called the null hypothesis, or H0. A threshold level is chosen called alpha, 5% (or 0.05), that is used to interpret the p-value.\n",
    "\n",
    "p <= alpha: reject H0, not normal.\n",
    "p > alpha: fail to reject H0, normal.\n",
    "This means that, in general, we are seeking results with a larger p-value to confirm that our sample was likely drawn from a Gaussian distribution."
   ]
  },
  {
   "cell_type": "code",
   "execution_count": 724,
   "metadata": {},
   "outputs": [
    {
     "name": "stdout",
     "output_type": "stream",
     "text": [
      "Statistics=0.882, p=0.000\n",
      "Sample does not look Gaussian (reject H0)\n"
     ]
    }
   ],
   "source": [
    "# Shapiro-Wilk Test\n",
    "from numpy.random import seed\n",
    "from numpy.random import randn\n",
    "from scipy.stats import shapiro\n",
    "\n",
    "# normality test\n",
    "stat, p = shapiro(pf['profit'])\n",
    "\n",
    "print('Statistics=%.3f, p=%.3f' % (stat, p))\n",
    "# interpret\n",
    "alpha = 0.05\n",
    "if p > alpha:\n",
    "    print('Sample looks Gaussian (fail to reject H0)')\n",
    "else:\n",
    "    print('Sample does not look Gaussian (reject H0)')"
   ]
  },
  {
   "cell_type": "markdown",
   "metadata": {},
   "source": [
    "This proves that the Profit Margin is not Normally Distributed."
   ]
  },
  {
   "cell_type": "code",
   "execution_count": 407,
   "metadata": {},
   "outputs": [],
   "source": [
    "# End part 1.1"
   ]
  },
  {
   "cell_type": "markdown",
   "metadata": {},
   "source": [
    "### 2) Please plot the monthly and quarterly aggregate revenue across all stores."
   ]
  },
  {
   "cell_type": "code",
   "execution_count": 554,
   "metadata": {},
   "outputs": [],
   "source": [
    "# This definition buckets months into quarters - kept it numeric for running models later on\n",
    "\n",
    "def quarter(t):\n",
    "    '''Defining function that buckets months into quarters'''\n",
    "    if (t['month'] >= 1) and (t['month'] <= 3):\n",
    "        return 1\n",
    "    elif (t['month'] >= 4) and (t['month'] <= 6):\n",
    "        return 2\n",
    "    elif (t['month'] >= 7) and (t['month'] <= 9):\n",
    "        return 3\n",
    "    elif (t['month'] >= 10) and (t['month'] <= 12):\n",
    "        return 4\n",
    "    else:\n",
    "        return 0"
   ]
  },
  {
   "cell_type": "code",
   "execution_count": 555,
   "metadata": {},
   "outputs": [
    {
     "data": {
      "text/html": [
       "<div>\n",
       "<style scoped>\n",
       "    .dataframe tbody tr th:only-of-type {\n",
       "        vertical-align: middle;\n",
       "    }\n",
       "\n",
       "    .dataframe tbody tr th {\n",
       "        vertical-align: top;\n",
       "    }\n",
       "\n",
       "    .dataframe thead th {\n",
       "        text-align: right;\n",
       "    }\n",
       "</style>\n",
       "<table border=\"1\" class=\"dataframe\">\n",
       "  <thead>\n",
       "    <tr style=\"text-align: right;\">\n",
       "      <th></th>\n",
       "      <th>location_num</th>\n",
       "      <th>month</th>\n",
       "      <th>state</th>\n",
       "      <th>gross_rev</th>\n",
       "      <th>fixed_cost</th>\n",
       "      <th>variable_cost</th>\n",
       "      <th>rental_cost</th>\n",
       "      <th>num_of_prod</th>\n",
       "      <th>owned</th>\n",
       "      <th>profit</th>\n",
       "      <th>quarter</th>\n",
       "    </tr>\n",
       "  </thead>\n",
       "  <tbody>\n",
       "    <tr>\n",
       "      <th>0</th>\n",
       "      <td>1</td>\n",
       "      <td>1</td>\n",
       "      <td>TX</td>\n",
       "      <td>48628171.020</td>\n",
       "      <td>9218156.690</td>\n",
       "      <td>24278189.230</td>\n",
       "      <td>365880</td>\n",
       "      <td>4452</td>\n",
       "      <td>0</td>\n",
       "      <td>14765945.100</td>\n",
       "      <td>1</td>\n",
       "    </tr>\n",
       "    <tr>\n",
       "      <th>1</th>\n",
       "      <td>1</td>\n",
       "      <td>2</td>\n",
       "      <td>TX</td>\n",
       "      <td>48107179.240</td>\n",
       "      <td>10587747.350</td>\n",
       "      <td>25116844.410</td>\n",
       "      <td>365880</td>\n",
       "      <td>4452</td>\n",
       "      <td>0</td>\n",
       "      <td>12036707.480</td>\n",
       "      <td>1</td>\n",
       "    </tr>\n",
       "    <tr>\n",
       "      <th>2</th>\n",
       "      <td>1</td>\n",
       "      <td>3</td>\n",
       "      <td>TX</td>\n",
       "      <td>64352278.290</td>\n",
       "      <td>10193873.770</td>\n",
       "      <td>33703499.830</td>\n",
       "      <td>365880</td>\n",
       "      <td>4452</td>\n",
       "      <td>0</td>\n",
       "      <td>20089024.690</td>\n",
       "      <td>1</td>\n",
       "    </tr>\n",
       "    <tr>\n",
       "      <th>3</th>\n",
       "      <td>1</td>\n",
       "      <td>4</td>\n",
       "      <td>TX</td>\n",
       "      <td>45943677.960</td>\n",
       "      <td>8764165.000</td>\n",
       "      <td>24037719.470</td>\n",
       "      <td>365880</td>\n",
       "      <td>4452</td>\n",
       "      <td>0</td>\n",
       "      <td>12775913.490</td>\n",
       "      <td>2</td>\n",
       "    </tr>\n",
       "    <tr>\n",
       "      <th>4</th>\n",
       "      <td>1</td>\n",
       "      <td>5</td>\n",
       "      <td>TX</td>\n",
       "      <td>32761434.980</td>\n",
       "      <td>8022116.430</td>\n",
       "      <td>16432119.180</td>\n",
       "      <td>365880</td>\n",
       "      <td>4452</td>\n",
       "      <td>0</td>\n",
       "      <td>7941319.370</td>\n",
       "      <td>2</td>\n",
       "    </tr>\n",
       "  </tbody>\n",
       "</table>\n",
       "</div>"
      ],
      "text/plain": [
       "   location_num  month state    gross_rev   fixed_cost  variable_cost  \\\n",
       "0             1      1    TX 48628171.020  9218156.690   24278189.230   \n",
       "1             1      2    TX 48107179.240 10587747.350   25116844.410   \n",
       "2             1      3    TX 64352278.290 10193873.770   33703499.830   \n",
       "3             1      4    TX 45943677.960  8764165.000   24037719.470   \n",
       "4             1      5    TX 32761434.980  8022116.430   16432119.180   \n",
       "\n",
       "   rental_cost  num_of_prod  owned       profit  quarter  \n",
       "0       365880         4452      0 14765945.100        1  \n",
       "1       365880         4452      0 12036707.480        1  \n",
       "2       365880         4452      0 20089024.690        1  \n",
       "3       365880         4452      0 12775913.490        2  \n",
       "4       365880         4452      0  7941319.370        2  "
      ]
     },
     "execution_count": 555,
     "metadata": {},
     "output_type": "execute_result"
    }
   ],
   "source": [
    "retail_df['quarter'] = retail_df.apply(quarter, axis=1)\n",
    "retail_df.head(5)"
   ]
  },
  {
   "cell_type": "code",
   "execution_count": 556,
   "metadata": {},
   "outputs": [
    {
     "name": "stdout",
     "output_type": "stream",
     "text": [
      "    month  quarter\n",
      "0       1        1\n",
      "1       2        1\n",
      "2       3        1\n",
      "3       4        2\n",
      "4       5        2\n",
      "5       6        2\n",
      "6       7        3\n",
      "7       8        3\n",
      "8       9        3\n",
      "9      10        4\n",
      "10     11        4\n",
      "11     12        4\n"
     ]
    }
   ],
   "source": [
    "# Checking if bucketing of new field results are as expected\n",
    "\n",
    "print(pysqldf(\"SELECT DISTINCT month, quarter FROM retail_df\"))"
   ]
  },
  {
   "cell_type": "code",
   "execution_count": 580,
   "metadata": {},
   "outputs": [
    {
     "data": {
      "text/plain": [
       "<matplotlib.axes._subplots.AxesSubplot at 0x1a46c85898>"
      ]
     },
     "execution_count": 580,
     "metadata": {},
     "output_type": "execute_result"
    },
    {
     "data": {
      "image/png": "[encoded data removed]",
      "text/plain": [
       "<Figure size 1080x360 with 1 Axes>"
      ]
     },
     "metadata": {
      "needs_background": "light"
     },
     "output_type": "display_data"
    }
   ],
   "source": [
    "# Aggregating Profit over Months and Visualizing the results\n",
    "\n",
    "monthly_profit = retail_df.groupby(['month'], as_index=True).sum()[['profit']]\n",
    "monthly_profit\n",
    "monthly_profit.plot(kind='line', figsize=(15,5))"
   ]
  },
  {
   "cell_type": "code",
   "execution_count": 581,
   "metadata": {},
   "outputs": [
    {
     "data": {
      "text/plain": [
       "<matplotlib.axes._subplots.AxesSubplot at 0x1a470bc748>"
      ]
     },
     "execution_count": 581,
     "metadata": {},
     "output_type": "execute_result"
    },
    {
     "data": {
      "image/png": "[encoded data removed]",
      "text/plain": [
       "<Figure size 1080x360 with 1 Axes>"
      ]
     },
     "metadata": {
      "needs_background": "light"
     },
     "output_type": "display_data"
    }
   ],
   "source": [
    "# Aggregating Profit by Location Number and Month, and Visualizing the results\n",
    "\n",
    "monthly_profit_loc = retail_df.groupby(['location_num', 'month'], as_index=True).sum()[['profit']]\n",
    "monthly_profit_loc\n",
    "monthly_profit_loc.plot(kind='line', figsize=(15,5))"
   ]
  },
  {
   "cell_type": "code",
   "execution_count": 574,
   "metadata": {},
   "outputs": [
    {
     "data": {
      "text/plain": [
       "<matplotlib.axes._subplots.AxesSubplot at 0x1a45f97ba8>"
      ]
     },
     "execution_count": 574,
     "metadata": {},
     "output_type": "execute_result"
    },
    {
     "data": {
      "image/png": "[encoded data removed]",
      "text/plain": [
       "<Figure size 1080x360 with 1 Axes>"
      ]
     },
     "metadata": {
      "needs_background": "light"
     },
     "output_type": "display_data"
    }
   ],
   "source": [
    "# Aggregating Profit over Quarters and Visualizing the results\n",
    "\n",
    "quarterly_profit = retail_df.groupby(['quarter'], as_index=True).sum()[['profit']]\n",
    "quarterly_profit\n",
    "quarterly_profit.plot(kind='line', figsize=(15,5))"
   ]
  },
  {
   "cell_type": "code",
   "execution_count": 579,
   "metadata": {},
   "outputs": [
    {
     "data": {
      "text/plain": [
       "<matplotlib.axes._subplots.AxesSubplot at 0x1a464f7e80>"
      ]
     },
     "execution_count": 579,
     "metadata": {},
     "output_type": "execute_result"
    },
    {
     "data": {
      "image/png": "[encoded data removed]",
      "text/plain": [
       "<Figure size 1080x360 with 1 Axes>"
      ]
     },
     "metadata": {
      "needs_background": "light"
     },
     "output_type": "display_data"
    }
   ],
   "source": [
    "# Aggregating Profit by Location Number and Quarter, and Visualizing the results\n",
    "\n",
    "quarterly_profit_loc = retail_df.groupby(['location_num', 'quarter'], as_index=True).sum()[['profit']]\n",
    "quarterly_profit_loc\n",
    "quarterly_profit_loc.plot(kind='line', figsize=(15,5))"
   ]
  },
  {
   "cell_type": "code",
   "execution_count": 414,
   "metadata": {},
   "outputs": [],
   "source": [
    "# End part 1.2"
   ]
  },
  {
   "cell_type": "code",
   "execution_count": 575,
   "metadata": {},
   "outputs": [],
   "source": [
    "# pd.set_option('display.float_format', lambda x: '%.3f' % x)"
   ]
  },
  {
   "cell_type": "code",
   "execution_count": 586,
   "metadata": {},
   "outputs": [],
   "source": [
    "# # Viewing Profit margin by Month and State\n",
    "\n",
    "# j = retail_df.groupby(['state'], as_index=True).sum()[['profit']]\n",
    "# j"
   ]
  },
  {
   "cell_type": "code",
   "execution_count": 584,
   "metadata": {},
   "outputs": [],
   "source": [
    "#qtr = retail_df['quarter']\n",
    "#qtrly_profit_mean = quarterly_profit_mean\n",
    "#mon = retail_df['month'].unique\n",
    "#plt.plot(monthly_profit) # plot(x,y)\n",
    "# plt.hist(monthly_profit, bins=12)\n",
    "# plt.show()"
   ]
  },
  {
   "cell_type": "code",
   "execution_count": 585,
   "metadata": {},
   "outputs": [],
   "source": [
    "# fnx = lambda : np.random.randint(3, 10, 10)\n",
    "# y = np.row_stack((fnx(), fnx(), fnx(), fnx(), fnx())) \n",
    "\n",
    "\n",
    "# x = np.arange(10) \n",
    "# y_stack = np.cumsum(y, axis=0)   \n",
    "\n",
    "# fig = plt.figure(figsize=(11,8))\n",
    "# ax1 = fig.add_subplot(111)\n",
    "\n",
    "# ax1.fill_between(x, 0, y_stack[0,:], facecolor=\"#CC6666\", alpha=0.7)\n",
    "# ax1.fill_between(x, y_stack[0,:], y_stack[1,:], facecolor=\"#1DACD6\", alpha=0.7)\n",
    "# # ax1.fill_between(x, y_stack[1,:], y_stack[2,:], facecolor=\"#6E5160\", alpha=0.7)\n",
    "# # ax1.fill_between(x, y_stack[2,:], y_stack[3,:], facecolor=\"#CC6666\", alpha=0.7)\n",
    "# # ax1.fill_between(x, y_stack[3,:], y_stack[4,:], facecolor=\"#1DACD6\", alpha=0.7)\n",
    "\n",
    "# plt.savefig('\\images\\smooth_plot.png')"
   ]
  },
  {
   "cell_type": "code",
   "execution_count": null,
   "metadata": {},
   "outputs": [],
   "source": []
  },
  {
   "cell_type": "code",
   "execution_count": null,
   "metadata": {},
   "outputs": [],
   "source": []
  },
  {
   "cell_type": "code",
   "execution_count": null,
   "metadata": {},
   "outputs": [],
   "source": []
  },
  {
   "cell_type": "code",
   "execution_count": null,
   "metadata": {},
   "outputs": [],
   "source": []
  },
  {
   "cell_type": "code",
   "execution_count": 225,
   "metadata": {},
   "outputs": [],
   "source": [
    "# score_india = d['score_india']\n",
    "# legend = ['India', 'Pakistan']\n",
    "# score_pk = d['score_pk']\n",
    "# plt.hist([score_india, score_pk], color=['orange', 'green'])"
   ]
  },
  {
   "cell_type": "code",
   "execution_count": 277,
   "metadata": {},
   "outputs": [
    {
     "data": {
      "text/plain": [
       "24    6.72e+06\n",
       "25    5.74e+06\n",
       "26    8.68e+06\n",
       "27    5.47e+06\n",
       "28    5.71e+06\n",
       "Name: profit, dtype: float64"
      ]
     },
     "execution_count": 277,
     "metadata": {},
     "output_type": "execute_result"
    }
   ],
   "source": [
    "owned = retail_df[retail_df['owned'] == 1]['profit']\n",
    "owned.head()"
   ]
  },
  {
   "cell_type": "code",
   "execution_count": 278,
   "metadata": {},
   "outputs": [
    {
     "data": {
      "text/plain": [
       "0    1.48e+07\n",
       "1    1.20e+07\n",
       "2    2.01e+07\n",
       "3    1.28e+07\n",
       "4    7.94e+06\n",
       "Name: profit, dtype: float64"
      ]
     },
     "execution_count": 278,
     "metadata": {},
     "output_type": "execute_result"
    }
   ],
   "source": [
    "leased = retail_df[retail_df['owned'] == 0]['profit']\n",
    "leased.head()"
   ]
  },
  {
   "cell_type": "code",
   "execution_count": 240,
   "metadata": {},
   "outputs": [],
   "source": [
    "month = retail_df['month'].unique"
   ]
  },
  {
   "cell_type": "code",
   "execution_count": null,
   "metadata": {},
   "outputs": [],
   "source": [
    "year = [1960, 1970, 1980, 1990, 2000, 2010]\n",
    "pop_pakistan = [44.91, 58.09, 78.07, 107.7, 138.5, 170.6]\n",
    "pop_india = [449.48, 553.57, 696.783, 870.133, 1000.\n",
    "4, 1309.1]\n",
    "plt.plot(year, pop_pakistan, color='g')\n",
    "plt.plot(year, pop_india, color='orange')\n",
    "plt.xlabel('Countries')\n",
    "plt.ylabel('Population in million')\n",
    "plt.title('Pakistan India Population till 2010')\n",
    "plt.show()"
   ]
  },
  {
   "cell_type": "code",
   "execution_count": 241,
   "metadata": {},
   "outputs": [
    {
     "ename": "ValueError",
     "evalue": "x and y must have same first dimension, but have shapes (1,) and (3564,)",
     "output_type": "error",
     "traceback": [
      "\u001b[0;31m---------------------------------------------------------------------------\u001b[0m",
      "\u001b[0;31mValueError\u001b[0m                                Traceback (most recent call last)",
      "\u001b[0;32m<ipython-input-241-ba65a7507cce>\u001b[0m in \u001b[0;36m<module>\u001b[0;34m\u001b[0m\n\u001b[0;32m----> 1\u001b[0;31m \u001b[0mplt\u001b[0m\u001b[0;34m.\u001b[0m\u001b[0mplot\u001b[0m\u001b[0;34m(\u001b[0m\u001b[0mmonth\u001b[0m\u001b[0;34m,\u001b[0m \u001b[0mleased\u001b[0m\u001b[0;34m,\u001b[0m \u001b[0mcolor\u001b[0m\u001b[0;34m=\u001b[0m\u001b[0;34m'g'\u001b[0m\u001b[0;34m)\u001b[0m\u001b[0;34m\u001b[0m\u001b[0;34m\u001b[0m\u001b[0m\n\u001b[0m\u001b[1;32m      2\u001b[0m \u001b[0mplt\u001b[0m\u001b[0;34m.\u001b[0m\u001b[0mplot\u001b[0m\u001b[0;34m(\u001b[0m\u001b[0mmonth\u001b[0m\u001b[0;34m,\u001b[0m \u001b[0mowned\u001b[0m\u001b[0;34m,\u001b[0m \u001b[0mcolor\u001b[0m\u001b[0;34m=\u001b[0m\u001b[0;34m'orange'\u001b[0m\u001b[0;34m)\u001b[0m\u001b[0;34m\u001b[0m\u001b[0;34m\u001b[0m\u001b[0m\n\u001b[1;32m      3\u001b[0m \u001b[0mplt\u001b[0m\u001b[0;34m.\u001b[0m\u001b[0mxlabel\u001b[0m\u001b[0;34m(\u001b[0m\u001b[0;34m'Months in 2018'\u001b[0m\u001b[0;34m)\u001b[0m\u001b[0;34m\u001b[0m\u001b[0;34m\u001b[0m\u001b[0m\n\u001b[1;32m      4\u001b[0m \u001b[0mplt\u001b[0m\u001b[0;34m.\u001b[0m\u001b[0mylabel\u001b[0m\u001b[0;34m(\u001b[0m\u001b[0;34m'Profit'\u001b[0m\u001b[0;34m)\u001b[0m\u001b[0;34m\u001b[0m\u001b[0;34m\u001b[0m\u001b[0m\n\u001b[1;32m      5\u001b[0m \u001b[0mplt\u001b[0m\u001b[0;34m.\u001b[0m\u001b[0mtitle\u001b[0m\u001b[0;34m(\u001b[0m\u001b[0;34m'Profit Margins of Leased and Owned Properties by Month'\u001b[0m\u001b[0;34m)\u001b[0m\u001b[0;34m\u001b[0m\u001b[0;34m\u001b[0m\u001b[0m\n",
      "\u001b[0;32m~/anaconda3/lib/python3.7/site-packages/matplotlib/pyplot.py\u001b[0m in \u001b[0;36mplot\u001b[0;34m(scalex, scaley, data, *args, **kwargs)\u001b[0m\n\u001b[1;32m   2809\u001b[0m     return gca().plot(\n\u001b[1;32m   2810\u001b[0m         *args, scalex=scalex, scaley=scaley, **({\"data\": data} if data\n\u001b[0;32m-> 2811\u001b[0;31m         is not None else {}), **kwargs)\n\u001b[0m\u001b[1;32m   2812\u001b[0m \u001b[0;34m\u001b[0m\u001b[0m\n\u001b[1;32m   2813\u001b[0m \u001b[0;34m\u001b[0m\u001b[0m\n",
      "\u001b[0;32m~/anaconda3/lib/python3.7/site-packages/matplotlib/__init__.py\u001b[0m in \u001b[0;36minner\u001b[0;34m(ax, data, *args, **kwargs)\u001b[0m\n\u001b[1;32m   1808\u001b[0m                         \u001b[0;34m\"the Matplotlib list!)\"\u001b[0m \u001b[0;34m%\u001b[0m \u001b[0;34m(\u001b[0m\u001b[0mlabel_namer\u001b[0m\u001b[0;34m,\u001b[0m \u001b[0mfunc\u001b[0m\u001b[0;34m.\u001b[0m\u001b[0m__name__\u001b[0m\u001b[0;34m)\u001b[0m\u001b[0;34m,\u001b[0m\u001b[0;34m\u001b[0m\u001b[0;34m\u001b[0m\u001b[0m\n\u001b[1;32m   1809\u001b[0m                         RuntimeWarning, stacklevel=2)\n\u001b[0;32m-> 1810\u001b[0;31m             \u001b[0;32mreturn\u001b[0m \u001b[0mfunc\u001b[0m\u001b[0;34m(\u001b[0m\u001b[0max\u001b[0m\u001b[0;34m,\u001b[0m \u001b[0;34m*\u001b[0m\u001b[0margs\u001b[0m\u001b[0;34m,\u001b[0m \u001b[0;34m**\u001b[0m\u001b[0mkwargs\u001b[0m\u001b[0;34m)\u001b[0m\u001b[0;34m\u001b[0m\u001b[0;34m\u001b[0m\u001b[0m\n\u001b[0m\u001b[1;32m   1811\u001b[0m \u001b[0;34m\u001b[0m\u001b[0m\n\u001b[1;32m   1812\u001b[0m         inner.__doc__ = _add_data_doc(inner.__doc__,\n",
      "\u001b[0;32m~/anaconda3/lib/python3.7/site-packages/matplotlib/axes/_axes.py\u001b[0m in \u001b[0;36mplot\u001b[0;34m(self, scalex, scaley, *args, **kwargs)\u001b[0m\n\u001b[1;32m   1609\u001b[0m         \u001b[0mkwargs\u001b[0m \u001b[0;34m=\u001b[0m \u001b[0mcbook\u001b[0m\u001b[0;34m.\u001b[0m\u001b[0mnormalize_kwargs\u001b[0m\u001b[0;34m(\u001b[0m\u001b[0mkwargs\u001b[0m\u001b[0;34m,\u001b[0m \u001b[0mmlines\u001b[0m\u001b[0;34m.\u001b[0m\u001b[0mLine2D\u001b[0m\u001b[0;34m.\u001b[0m\u001b[0m_alias_map\u001b[0m\u001b[0;34m)\u001b[0m\u001b[0;34m\u001b[0m\u001b[0;34m\u001b[0m\u001b[0m\n\u001b[1;32m   1610\u001b[0m \u001b[0;34m\u001b[0m\u001b[0m\n\u001b[0;32m-> 1611\u001b[0;31m         \u001b[0;32mfor\u001b[0m \u001b[0mline\u001b[0m \u001b[0;32min\u001b[0m \u001b[0mself\u001b[0m\u001b[0;34m.\u001b[0m\u001b[0m_get_lines\u001b[0m\u001b[0;34m(\u001b[0m\u001b[0;34m*\u001b[0m\u001b[0margs\u001b[0m\u001b[0;34m,\u001b[0m \u001b[0;34m**\u001b[0m\u001b[0mkwargs\u001b[0m\u001b[0;34m)\u001b[0m\u001b[0;34m:\u001b[0m\u001b[0;34m\u001b[0m\u001b[0;34m\u001b[0m\u001b[0m\n\u001b[0m\u001b[1;32m   1612\u001b[0m             \u001b[0mself\u001b[0m\u001b[0;34m.\u001b[0m\u001b[0madd_line\u001b[0m\u001b[0;34m(\u001b[0m\u001b[0mline\u001b[0m\u001b[0;34m)\u001b[0m\u001b[0;34m\u001b[0m\u001b[0;34m\u001b[0m\u001b[0m\n\u001b[1;32m   1613\u001b[0m             \u001b[0mlines\u001b[0m\u001b[0;34m.\u001b[0m\u001b[0mappend\u001b[0m\u001b[0;34m(\u001b[0m\u001b[0mline\u001b[0m\u001b[0;34m)\u001b[0m\u001b[0;34m\u001b[0m\u001b[0;34m\u001b[0m\u001b[0m\n",
      "\u001b[0;32m~/anaconda3/lib/python3.7/site-packages/matplotlib/axes/_base.py\u001b[0m in \u001b[0;36m_grab_next_args\u001b[0;34m(self, *args, **kwargs)\u001b[0m\n\u001b[1;32m    391\u001b[0m                 \u001b[0mthis\u001b[0m \u001b[0;34m+=\u001b[0m \u001b[0margs\u001b[0m\u001b[0;34m[\u001b[0m\u001b[0;36m0\u001b[0m\u001b[0;34m]\u001b[0m\u001b[0;34m,\u001b[0m\u001b[0;34m\u001b[0m\u001b[0;34m\u001b[0m\u001b[0m\n\u001b[1;32m    392\u001b[0m                 \u001b[0margs\u001b[0m \u001b[0;34m=\u001b[0m \u001b[0margs\u001b[0m\u001b[0;34m[\u001b[0m\u001b[0;36m1\u001b[0m\u001b[0;34m:\u001b[0m\u001b[0;34m]\u001b[0m\u001b[0;34m\u001b[0m\u001b[0;34m\u001b[0m\u001b[0m\n\u001b[0;32m--> 393\u001b[0;31m             \u001b[0;32myield\u001b[0m \u001b[0;32mfrom\u001b[0m \u001b[0mself\u001b[0m\u001b[0;34m.\u001b[0m\u001b[0m_plot_args\u001b[0m\u001b[0;34m(\u001b[0m\u001b[0mthis\u001b[0m\u001b[0;34m,\u001b[0m \u001b[0mkwargs\u001b[0m\u001b[0;34m)\u001b[0m\u001b[0;34m\u001b[0m\u001b[0;34m\u001b[0m\u001b[0m\n\u001b[0m\u001b[1;32m    394\u001b[0m \u001b[0;34m\u001b[0m\u001b[0m\n\u001b[1;32m    395\u001b[0m \u001b[0;34m\u001b[0m\u001b[0m\n",
      "\u001b[0;32m~/anaconda3/lib/python3.7/site-packages/matplotlib/axes/_base.py\u001b[0m in \u001b[0;36m_plot_args\u001b[0;34m(self, tup, kwargs)\u001b[0m\n\u001b[1;32m    368\u001b[0m             \u001b[0mx\u001b[0m\u001b[0;34m,\u001b[0m \u001b[0my\u001b[0m \u001b[0;34m=\u001b[0m \u001b[0mindex_of\u001b[0m\u001b[0;34m(\u001b[0m\u001b[0mtup\u001b[0m\u001b[0;34m[\u001b[0m\u001b[0;34m-\u001b[0m\u001b[0;36m1\u001b[0m\u001b[0;34m]\u001b[0m\u001b[0;34m)\u001b[0m\u001b[0;34m\u001b[0m\u001b[0;34m\u001b[0m\u001b[0m\n\u001b[1;32m    369\u001b[0m \u001b[0;34m\u001b[0m\u001b[0m\n\u001b[0;32m--> 370\u001b[0;31m         \u001b[0mx\u001b[0m\u001b[0;34m,\u001b[0m \u001b[0my\u001b[0m \u001b[0;34m=\u001b[0m \u001b[0mself\u001b[0m\u001b[0;34m.\u001b[0m\u001b[0m_xy_from_xy\u001b[0m\u001b[0;34m(\u001b[0m\u001b[0mx\u001b[0m\u001b[0;34m,\u001b[0m \u001b[0my\u001b[0m\u001b[0;34m)\u001b[0m\u001b[0;34m\u001b[0m\u001b[0;34m\u001b[0m\u001b[0m\n\u001b[0m\u001b[1;32m    371\u001b[0m \u001b[0;34m\u001b[0m\u001b[0m\n\u001b[1;32m    372\u001b[0m         \u001b[0;32mif\u001b[0m \u001b[0mself\u001b[0m\u001b[0;34m.\u001b[0m\u001b[0mcommand\u001b[0m \u001b[0;34m==\u001b[0m \u001b[0;34m'plot'\u001b[0m\u001b[0;34m:\u001b[0m\u001b[0;34m\u001b[0m\u001b[0;34m\u001b[0m\u001b[0m\n",
      "\u001b[0;32m~/anaconda3/lib/python3.7/site-packages/matplotlib/axes/_base.py\u001b[0m in \u001b[0;36m_xy_from_xy\u001b[0;34m(self, x, y)\u001b[0m\n\u001b[1;32m    229\u001b[0m         \u001b[0;32mif\u001b[0m \u001b[0mx\u001b[0m\u001b[0;34m.\u001b[0m\u001b[0mshape\u001b[0m\u001b[0;34m[\u001b[0m\u001b[0;36m0\u001b[0m\u001b[0;34m]\u001b[0m \u001b[0;34m!=\u001b[0m \u001b[0my\u001b[0m\u001b[0;34m.\u001b[0m\u001b[0mshape\u001b[0m\u001b[0;34m[\u001b[0m\u001b[0;36m0\u001b[0m\u001b[0;34m]\u001b[0m\u001b[0;34m:\u001b[0m\u001b[0;34m\u001b[0m\u001b[0;34m\u001b[0m\u001b[0m\n\u001b[1;32m    230\u001b[0m             raise ValueError(\"x and y must have same first dimension, but \"\n\u001b[0;32m--> 231\u001b[0;31m                              \"have shapes {} and {}\".format(x.shape, y.shape))\n\u001b[0m\u001b[1;32m    232\u001b[0m         \u001b[0;32mif\u001b[0m \u001b[0mx\u001b[0m\u001b[0;34m.\u001b[0m\u001b[0mndim\u001b[0m \u001b[0;34m>\u001b[0m \u001b[0;36m2\u001b[0m \u001b[0;32mor\u001b[0m \u001b[0my\u001b[0m\u001b[0;34m.\u001b[0m\u001b[0mndim\u001b[0m \u001b[0;34m>\u001b[0m \u001b[0;36m2\u001b[0m\u001b[0;34m:\u001b[0m\u001b[0;34m\u001b[0m\u001b[0;34m\u001b[0m\u001b[0m\n\u001b[1;32m    233\u001b[0m             raise ValueError(\"x and y can be no greater than 2-D, but have \"\n",
      "\u001b[0;31mValueError\u001b[0m: x and y must have same first dimension, but have shapes (1,) and (3564,)"
     ]
    },
    {
     "data": {
      "image/png": "[encoded data removed]",
      "text/plain": [
       "<Figure size 432x288 with 1 Axes>"
      ]
     },
     "metadata": {
      "needs_background": "light"
     },
     "output_type": "display_data"
    }
   ],
   "source": [
    "plt.plot(month, leased, color='g')\n",
    "plt.plot(month, owned, color='orange')\n",
    "plt.xlabel('Months in 2018')\n",
    "plt.ylabel('Profit')\n",
    "plt.title('Profit Margins of Leased and Owned Properties by Month')\n",
    "plt.show()"
   ]
  },
  {
   "cell_type": "code",
   "execution_count": null,
   "metadata": {},
   "outputs": [],
   "source": []
  },
  {
   "cell_type": "code",
   "execution_count": null,
   "metadata": {},
   "outputs": [],
   "source": []
  },
  {
   "cell_type": "code",
   "execution_count": null,
   "metadata": {},
   "outputs": [],
   "source": []
  },
  {
   "cell_type": "code",
   "execution_count": null,
   "metadata": {},
   "outputs": [],
   "source": []
  },
  {
   "cell_type": "code",
   "execution_count": 236,
   "metadata": {},
   "outputs": [
    {
     "data": {
      "text/plain": [
       "<Figure size 2160x1440 with 0 Axes>"
      ]
     },
     "metadata": {},
     "output_type": "display_data"
    },
    {
     "data": {
      "image/png": "[encoded data removed]",
      "text/plain": [
       "<Figure size 1440x720 with 2 Axes>"
      ]
     },
     "metadata": {
      "needs_background": "light"
     },
     "output_type": "display_data"
    }
   ],
   "source": [
    "# sns.set(style=\"ticks\")\n",
    "plt.figure(figsize=(30,20))\n",
    "grid = sns.FacetGrid(data=retail_df, col=\"owned\", height=10)\n",
    "\n",
    "# Draw a horizontal line to show the starting point\n",
    "grid.map(plt.axhline, y=0.5, ls=\":\", c=\".5\")\n",
    "\n",
    "# Draw a line plot to show the average value per month\n",
    "grid.map(plt.plot, \"owned\", \"month\", marker=\"x\", color='r', label='owned')\n",
    "# grid.map(plt.plot, \"Month\", \"energy\", marker=\".\", color='grey', label='energy')\n",
    "# grid.map(plt.plot, \"Month\", \"acousticness\", marker=\"v\", color='b', label='acousticness')\n",
    "# grid.map(plt.plot, \"Month\", \"instrumentalness\", marker=\"^\", color='g', label='instrumentalness')\n",
    "# grid.map(plt.plot, \"Month\", \"speechiness\", marker=\"s\", color='violet', label='speechiness')\n",
    "# grid.map(plt.plot, \"Month\", \"valence\", marker=\"*\", color='y', label='valence')\n",
    "\n",
    "# Adjust the tick positions and labels\n",
    "grid.set(xticks=np.arange(13), yticks=[0, 1], \n",
    "         xlim=(0.5,12.5), ylim=(-0.1,1.1), \n",
    "         ylabel='Value', xlabel='')\n",
    "\n",
    "# Adjust legend\n",
    "plt.legend(loc='lower center', bbox_to_anchor=(-0.3, -0.2), ncol=6, fontsize=16)\n",
    "\n",
    "\n",
    "plt.show()"
   ]
  },
  {
   "cell_type": "code",
   "execution_count": null,
   "metadata": {},
   "outputs": [],
   "source": []
  },
  {
   "cell_type": "code",
   "execution_count": 335,
   "metadata": {},
   "outputs": [
    {
     "data": {
      "text/html": [
       "<div>\n",
       "<style scoped>\n",
       "    .dataframe tbody tr th:only-of-type {\n",
       "        vertical-align: middle;\n",
       "    }\n",
       "\n",
       "    .dataframe tbody tr th {\n",
       "        vertical-align: top;\n",
       "    }\n",
       "\n",
       "    .dataframe thead th {\n",
       "        text-align: right;\n",
       "    }\n",
       "</style>\n",
       "<table border=\"1\" class=\"dataframe\">\n",
       "  <thead>\n",
       "    <tr style=\"text-align: right;\">\n",
       "      <th></th>\n",
       "      <th>location_num</th>\n",
       "      <th>month</th>\n",
       "      <th>state</th>\n",
       "      <th>gross_rev</th>\n",
       "      <th>fixed_cost</th>\n",
       "      <th>variable_cost</th>\n",
       "      <th>rental_cost</th>\n",
       "      <th>num_of_prod</th>\n",
       "      <th>owned</th>\n",
       "      <th>profit</th>\n",
       "      <th>quarter</th>\n",
       "    </tr>\n",
       "  </thead>\n",
       "  <tbody>\n",
       "    <tr>\n",
       "      <th>0</th>\n",
       "      <td>1</td>\n",
       "      <td>1</td>\n",
       "      <td>TX</td>\n",
       "      <td>4.86e+07</td>\n",
       "      <td>9.22e+06</td>\n",
       "      <td>2.43e+07</td>\n",
       "      <td>365880</td>\n",
       "      <td>4452</td>\n",
       "      <td>0</td>\n",
       "      <td>1.48e+07</td>\n",
       "      <td>Q1</td>\n",
       "    </tr>\n",
       "    <tr>\n",
       "      <th>1</th>\n",
       "      <td>1</td>\n",
       "      <td>2</td>\n",
       "      <td>TX</td>\n",
       "      <td>4.81e+07</td>\n",
       "      <td>1.06e+07</td>\n",
       "      <td>2.51e+07</td>\n",
       "      <td>365880</td>\n",
       "      <td>4452</td>\n",
       "      <td>0</td>\n",
       "      <td>1.20e+07</td>\n",
       "      <td>Q1</td>\n",
       "    </tr>\n",
       "    <tr>\n",
       "      <th>2</th>\n",
       "      <td>1</td>\n",
       "      <td>3</td>\n",
       "      <td>TX</td>\n",
       "      <td>6.44e+07</td>\n",
       "      <td>1.02e+07</td>\n",
       "      <td>3.37e+07</td>\n",
       "      <td>365880</td>\n",
       "      <td>4452</td>\n",
       "      <td>0</td>\n",
       "      <td>2.01e+07</td>\n",
       "      <td>Q1</td>\n",
       "    </tr>\n",
       "    <tr>\n",
       "      <th>3</th>\n",
       "      <td>1</td>\n",
       "      <td>4</td>\n",
       "      <td>TX</td>\n",
       "      <td>4.59e+07</td>\n",
       "      <td>8.76e+06</td>\n",
       "      <td>2.40e+07</td>\n",
       "      <td>365880</td>\n",
       "      <td>4452</td>\n",
       "      <td>0</td>\n",
       "      <td>1.28e+07</td>\n",
       "      <td>Q2</td>\n",
       "    </tr>\n",
       "    <tr>\n",
       "      <th>4</th>\n",
       "      <td>1</td>\n",
       "      <td>5</td>\n",
       "      <td>TX</td>\n",
       "      <td>3.28e+07</td>\n",
       "      <td>8.02e+06</td>\n",
       "      <td>1.64e+07</td>\n",
       "      <td>365880</td>\n",
       "      <td>4452</td>\n",
       "      <td>0</td>\n",
       "      <td>7.94e+06</td>\n",
       "      <td>Q2</td>\n",
       "    </tr>\n",
       "    <tr>\n",
       "      <th>5</th>\n",
       "      <td>1</td>\n",
       "      <td>6</td>\n",
       "      <td>TX</td>\n",
       "      <td>5.07e+07</td>\n",
       "      <td>9.76e+06</td>\n",
       "      <td>2.62e+07</td>\n",
       "      <td>365880</td>\n",
       "      <td>4452</td>\n",
       "      <td>0</td>\n",
       "      <td>1.43e+07</td>\n",
       "      <td>Q2</td>\n",
       "    </tr>\n",
       "    <tr>\n",
       "      <th>6</th>\n",
       "      <td>1</td>\n",
       "      <td>7</td>\n",
       "      <td>TX</td>\n",
       "      <td>2.82e+07</td>\n",
       "      <td>8.25e+06</td>\n",
       "      <td>1.45e+07</td>\n",
       "      <td>365880</td>\n",
       "      <td>4452</td>\n",
       "      <td>0</td>\n",
       "      <td>5.15e+06</td>\n",
       "      <td>Q3</td>\n",
       "    </tr>\n",
       "    <tr>\n",
       "      <th>7</th>\n",
       "      <td>1</td>\n",
       "      <td>8</td>\n",
       "      <td>TX</td>\n",
       "      <td>3.90e+07</td>\n",
       "      <td>7.86e+06</td>\n",
       "      <td>1.97e+07</td>\n",
       "      <td>365880</td>\n",
       "      <td>4452</td>\n",
       "      <td>0</td>\n",
       "      <td>1.10e+07</td>\n",
       "      <td>Q3</td>\n",
       "    </tr>\n",
       "    <tr>\n",
       "      <th>8</th>\n",
       "      <td>1</td>\n",
       "      <td>9</td>\n",
       "      <td>TX</td>\n",
       "      <td>4.36e+07</td>\n",
       "      <td>9.07e+06</td>\n",
       "      <td>2.21e+07</td>\n",
       "      <td>365880</td>\n",
       "      <td>4452</td>\n",
       "      <td>0</td>\n",
       "      <td>1.20e+07</td>\n",
       "      <td>Q3</td>\n",
       "    </tr>\n",
       "    <tr>\n",
       "      <th>9</th>\n",
       "      <td>1</td>\n",
       "      <td>10</td>\n",
       "      <td>TX</td>\n",
       "      <td>5.24e+07</td>\n",
       "      <td>9.06e+06</td>\n",
       "      <td>2.62e+07</td>\n",
       "      <td>365880</td>\n",
       "      <td>4452</td>\n",
       "      <td>0</td>\n",
       "      <td>1.67e+07</td>\n",
       "      <td>Q4</td>\n",
       "    </tr>\n",
       "    <tr>\n",
       "      <th>10</th>\n",
       "      <td>1</td>\n",
       "      <td>11</td>\n",
       "      <td>TX</td>\n",
       "      <td>3.58e+07</td>\n",
       "      <td>8.45e+06</td>\n",
       "      <td>1.84e+07</td>\n",
       "      <td>365880</td>\n",
       "      <td>4452</td>\n",
       "      <td>0</td>\n",
       "      <td>8.54e+06</td>\n",
       "      <td>Q4</td>\n",
       "    </tr>\n",
       "    <tr>\n",
       "      <th>11</th>\n",
       "      <td>1</td>\n",
       "      <td>12</td>\n",
       "      <td>TX</td>\n",
       "      <td>5.53e+07</td>\n",
       "      <td>1.17e+07</td>\n",
       "      <td>2.85e+07</td>\n",
       "      <td>365880</td>\n",
       "      <td>4452</td>\n",
       "      <td>0</td>\n",
       "      <td>1.47e+07</td>\n",
       "      <td>Q4</td>\n",
       "    </tr>\n",
       "    <tr>\n",
       "      <th>12</th>\n",
       "      <td>2</td>\n",
       "      <td>1</td>\n",
       "      <td>TX</td>\n",
       "      <td>2.63e+07</td>\n",
       "      <td>5.70e+06</td>\n",
       "      <td>1.39e+07</td>\n",
       "      <td>65270</td>\n",
       "      <td>4502</td>\n",
       "      <td>0</td>\n",
       "      <td>6.59e+06</td>\n",
       "      <td>Q1</td>\n",
       "    </tr>\n",
       "    <tr>\n",
       "      <th>13</th>\n",
       "      <td>2</td>\n",
       "      <td>2</td>\n",
       "      <td>TX</td>\n",
       "      <td>2.94e+07</td>\n",
       "      <td>5.15e+06</td>\n",
       "      <td>1.64e+07</td>\n",
       "      <td>65270</td>\n",
       "      <td>4502</td>\n",
       "      <td>0</td>\n",
       "      <td>7.75e+06</td>\n",
       "      <td>Q1</td>\n",
       "    </tr>\n",
       "    <tr>\n",
       "      <th>14</th>\n",
       "      <td>2</td>\n",
       "      <td>3</td>\n",
       "      <td>TX</td>\n",
       "      <td>4.31e+07</td>\n",
       "      <td>6.44e+06</td>\n",
       "      <td>2.37e+07</td>\n",
       "      <td>65270</td>\n",
       "      <td>4502</td>\n",
       "      <td>0</td>\n",
       "      <td>1.29e+07</td>\n",
       "      <td>Q1</td>\n",
       "    </tr>\n",
       "    <tr>\n",
       "      <th>15</th>\n",
       "      <td>2</td>\n",
       "      <td>4</td>\n",
       "      <td>TX</td>\n",
       "      <td>2.75e+07</td>\n",
       "      <td>6.51e+06</td>\n",
       "      <td>1.42e+07</td>\n",
       "      <td>65270</td>\n",
       "      <td>4502</td>\n",
       "      <td>0</td>\n",
       "      <td>6.75e+06</td>\n",
       "      <td>Q2</td>\n",
       "    </tr>\n",
       "    <tr>\n",
       "      <th>16</th>\n",
       "      <td>2</td>\n",
       "      <td>5</td>\n",
       "      <td>TX</td>\n",
       "      <td>2.82e+07</td>\n",
       "      <td>6.20e+06</td>\n",
       "      <td>1.51e+07</td>\n",
       "      <td>65270</td>\n",
       "      <td>4502</td>\n",
       "      <td>0</td>\n",
       "      <td>6.87e+06</td>\n",
       "      <td>Q2</td>\n",
       "    </tr>\n",
       "    <tr>\n",
       "      <th>17</th>\n",
       "      <td>2</td>\n",
       "      <td>6</td>\n",
       "      <td>TX</td>\n",
       "      <td>3.86e+07</td>\n",
       "      <td>7.23e+06</td>\n",
       "      <td>2.09e+07</td>\n",
       "      <td>65270</td>\n",
       "      <td>4502</td>\n",
       "      <td>0</td>\n",
       "      <td>1.04e+07</td>\n",
       "      <td>Q2</td>\n",
       "    </tr>\n",
       "    <tr>\n",
       "      <th>18</th>\n",
       "      <td>2</td>\n",
       "      <td>7</td>\n",
       "      <td>TX</td>\n",
       "      <td>2.33e+07</td>\n",
       "      <td>6.19e+06</td>\n",
       "      <td>1.30e+07</td>\n",
       "      <td>65270</td>\n",
       "      <td>4502</td>\n",
       "      <td>0</td>\n",
       "      <td>4.06e+06</td>\n",
       "      <td>Q3</td>\n",
       "    </tr>\n",
       "    <tr>\n",
       "      <th>19</th>\n",
       "      <td>2</td>\n",
       "      <td>8</td>\n",
       "      <td>TX</td>\n",
       "      <td>2.65e+07</td>\n",
       "      <td>5.89e+06</td>\n",
       "      <td>1.38e+07</td>\n",
       "      <td>65270</td>\n",
       "      <td>4502</td>\n",
       "      <td>0</td>\n",
       "      <td>6.73e+06</td>\n",
       "      <td>Q3</td>\n",
       "    </tr>\n",
       "  </tbody>\n",
       "</table>\n",
       "</div>"
      ],
      "text/plain": [
       "    location_num  month state  gross_rev  fixed_cost  variable_cost  \\\n",
       "0              1      1    TX   4.86e+07    9.22e+06       2.43e+07   \n",
       "1              1      2    TX   4.81e+07    1.06e+07       2.51e+07   \n",
       "2              1      3    TX   6.44e+07    1.02e+07       3.37e+07   \n",
       "3              1      4    TX   4.59e+07    8.76e+06       2.40e+07   \n",
       "4              1      5    TX   3.28e+07    8.02e+06       1.64e+07   \n",
       "5              1      6    TX   5.07e+07    9.76e+06       2.62e+07   \n",
       "6              1      7    TX   2.82e+07    8.25e+06       1.45e+07   \n",
       "7              1      8    TX   3.90e+07    7.86e+06       1.97e+07   \n",
       "8              1      9    TX   4.36e+07    9.07e+06       2.21e+07   \n",
       "9              1     10    TX   5.24e+07    9.06e+06       2.62e+07   \n",
       "10             1     11    TX   3.58e+07    8.45e+06       1.84e+07   \n",
       "11             1     12    TX   5.53e+07    1.17e+07       2.85e+07   \n",
       "12             2      1    TX   2.63e+07    5.70e+06       1.39e+07   \n",
       "13             2      2    TX   2.94e+07    5.15e+06       1.64e+07   \n",
       "14             2      3    TX   4.31e+07    6.44e+06       2.37e+07   \n",
       "15             2      4    TX   2.75e+07    6.51e+06       1.42e+07   \n",
       "16             2      5    TX   2.82e+07    6.20e+06       1.51e+07   \n",
       "17             2      6    TX   3.86e+07    7.23e+06       2.09e+07   \n",
       "18             2      7    TX   2.33e+07    6.19e+06       1.30e+07   \n",
       "19             2      8    TX   2.65e+07    5.89e+06       1.38e+07   \n",
       "\n",
       "    rental_cost  num_of_prod  owned    profit quarter  \n",
       "0        365880         4452      0  1.48e+07      Q1  \n",
       "1        365880         4452      0  1.20e+07      Q1  \n",
       "2        365880         4452      0  2.01e+07      Q1  \n",
       "3        365880         4452      0  1.28e+07      Q2  \n",
       "4        365880         4452      0  7.94e+06      Q2  \n",
       "5        365880         4452      0  1.43e+07      Q2  \n",
       "6        365880         4452      0  5.15e+06      Q3  \n",
       "7        365880         4452      0  1.10e+07      Q3  \n",
       "8        365880         4452      0  1.20e+07      Q3  \n",
       "9        365880         4452      0  1.67e+07      Q4  \n",
       "10       365880         4452      0  8.54e+06      Q4  \n",
       "11       365880         4452      0  1.47e+07      Q4  \n",
       "12        65270         4502      0  6.59e+06      Q1  \n",
       "13        65270         4502      0  7.75e+06      Q1  \n",
       "14        65270         4502      0  1.29e+07      Q1  \n",
       "15        65270         4502      0  6.75e+06      Q2  \n",
       "16        65270         4502      0  6.87e+06      Q2  \n",
       "17        65270         4502      0  1.04e+07      Q2  \n",
       "18        65270         4502      0  4.06e+06      Q3  \n",
       "19        65270         4502      0  6.73e+06      Q3  "
      ]
     },
     "execution_count": 335,
     "metadata": {},
     "output_type": "execute_result"
    }
   ],
   "source": [
    "retail_df.head(20)"
   ]
  },
  {
   "cell_type": "markdown",
   "metadata": {},
   "source": [
    "# Part 2 - Cleaning the Data"
   ]
  },
  {
   "cell_type": "markdown",
   "metadata": {},
   "source": [
    "### You will have noticed that the company operates both owned and leased locations. This creates an apples-to-oranges comparison, as only the leased locations are burdened with rental cost. To prep your data for analysis, please impute an appropriate rental cost for each owned location and recalculate the rent-adjusted annual profit margin."
   ]
  },
  {
   "cell_type": "code",
   "execution_count": 651,
   "metadata": {},
   "outputs": [
    {
     "data": {
      "text/html": [
       "<div>\n",
       "<style scoped>\n",
       "    .dataframe tbody tr th:only-of-type {\n",
       "        vertical-align: middle;\n",
       "    }\n",
       "\n",
       "    .dataframe tbody tr th {\n",
       "        vertical-align: top;\n",
       "    }\n",
       "\n",
       "    .dataframe thead th {\n",
       "        text-align: right;\n",
       "    }\n",
       "</style>\n",
       "<table border=\"1\" class=\"dataframe\">\n",
       "  <thead>\n",
       "    <tr style=\"text-align: right;\">\n",
       "      <th></th>\n",
       "      <th>owned</th>\n",
       "      <th>location_num</th>\n",
       "      <th>gross_rev</th>\n",
       "    </tr>\n",
       "  </thead>\n",
       "  <tbody>\n",
       "    <tr>\n",
       "      <th>0</th>\n",
       "      <td>0</td>\n",
       "      <td>1</td>\n",
       "      <td>544738868.630</td>\n",
       "    </tr>\n",
       "    <tr>\n",
       "      <th>1</th>\n",
       "      <td>0</td>\n",
       "      <td>2</td>\n",
       "      <td>355973012.710</td>\n",
       "    </tr>\n",
       "    <tr>\n",
       "      <th>2</th>\n",
       "      <td>1</td>\n",
       "      <td>3</td>\n",
       "      <td>331771805.460</td>\n",
       "    </tr>\n",
       "    <tr>\n",
       "      <th>3</th>\n",
       "      <td>0</td>\n",
       "      <td>4</td>\n",
       "      <td>263984311.310</td>\n",
       "    </tr>\n",
       "    <tr>\n",
       "      <th>4</th>\n",
       "      <td>0</td>\n",
       "      <td>5</td>\n",
       "      <td>189001593.490</td>\n",
       "    </tr>\n",
       "  </tbody>\n",
       "</table>\n",
       "</div>"
      ],
      "text/plain": [
       "   owned  location_num     gross_rev\n",
       "0      0             1 544738868.630\n",
       "1      0             2 355973012.710\n",
       "2      1             3 331771805.460\n",
       "3      0             4 263984311.310\n",
       "4      0             5 189001593.490"
      ]
     },
     "execution_count": 651,
     "metadata": {},
     "output_type": "execute_result"
    }
   ],
   "source": [
    "# Viewing Gross Revenue by Owned or Leased, and Location Num\n",
    "\n",
    "profit_owned_state = pysqldf(\"SELECT owned, location_num, SUM(gross_rev) AS gross_rev FROM retail_df GROUP BY owned, location_num ORDER BY location_num ASC, SUM(gross_rev) DESC\")\n",
    "profit_owned_state.head()"
   ]
  },
  {
   "cell_type": "code",
   "execution_count": 652,
   "metadata": {},
   "outputs": [
    {
     "data": {
      "text/html": [
       "<div>\n",
       "<style scoped>\n",
       "    .dataframe tbody tr th:only-of-type {\n",
       "        vertical-align: middle;\n",
       "    }\n",
       "\n",
       "    .dataframe tbody tr th {\n",
       "        vertical-align: top;\n",
       "    }\n",
       "\n",
       "    .dataframe thead th {\n",
       "        text-align: right;\n",
       "    }\n",
       "</style>\n",
       "<table border=\"1\" class=\"dataframe\">\n",
       "  <thead>\n",
       "    <tr style=\"text-align: right;\">\n",
       "      <th></th>\n",
       "      <th>location_num</th>\n",
       "      <th>month</th>\n",
       "      <th>state</th>\n",
       "      <th>gross_rev</th>\n",
       "      <th>fixed_cost</th>\n",
       "      <th>variable_cost</th>\n",
       "      <th>rental_cost</th>\n",
       "      <th>num_of_prod</th>\n",
       "      <th>owned</th>\n",
       "      <th>profit</th>\n",
       "      <th>quarter</th>\n",
       "    </tr>\n",
       "  </thead>\n",
       "  <tbody>\n",
       "    <tr>\n",
       "      <th>0</th>\n",
       "      <td>1</td>\n",
       "      <td>1</td>\n",
       "      <td>TX</td>\n",
       "      <td>48628171.020</td>\n",
       "      <td>9218156.690</td>\n",
       "      <td>24278189.230</td>\n",
       "      <td>365880</td>\n",
       "      <td>4452</td>\n",
       "      <td>0</td>\n",
       "      <td>14765945.100</td>\n",
       "      <td>1</td>\n",
       "    </tr>\n",
       "    <tr>\n",
       "      <th>1</th>\n",
       "      <td>1</td>\n",
       "      <td>2</td>\n",
       "      <td>TX</td>\n",
       "      <td>48107179.240</td>\n",
       "      <td>10587747.350</td>\n",
       "      <td>25116844.410</td>\n",
       "      <td>365880</td>\n",
       "      <td>4452</td>\n",
       "      <td>0</td>\n",
       "      <td>12036707.480</td>\n",
       "      <td>1</td>\n",
       "    </tr>\n",
       "    <tr>\n",
       "      <th>2</th>\n",
       "      <td>1</td>\n",
       "      <td>3</td>\n",
       "      <td>TX</td>\n",
       "      <td>64352278.290</td>\n",
       "      <td>10193873.770</td>\n",
       "      <td>33703499.830</td>\n",
       "      <td>365880</td>\n",
       "      <td>4452</td>\n",
       "      <td>0</td>\n",
       "      <td>20089024.690</td>\n",
       "      <td>1</td>\n",
       "    </tr>\n",
       "    <tr>\n",
       "      <th>3</th>\n",
       "      <td>1</td>\n",
       "      <td>4</td>\n",
       "      <td>TX</td>\n",
       "      <td>45943677.960</td>\n",
       "      <td>8764165.000</td>\n",
       "      <td>24037719.470</td>\n",
       "      <td>365880</td>\n",
       "      <td>4452</td>\n",
       "      <td>0</td>\n",
       "      <td>12775913.490</td>\n",
       "      <td>2</td>\n",
       "    </tr>\n",
       "    <tr>\n",
       "      <th>4</th>\n",
       "      <td>1</td>\n",
       "      <td>5</td>\n",
       "      <td>TX</td>\n",
       "      <td>32761434.980</td>\n",
       "      <td>8022116.430</td>\n",
       "      <td>16432119.180</td>\n",
       "      <td>365880</td>\n",
       "      <td>4452</td>\n",
       "      <td>0</td>\n",
       "      <td>7941319.370</td>\n",
       "      <td>2</td>\n",
       "    </tr>\n",
       "  </tbody>\n",
       "</table>\n",
       "</div>"
      ],
      "text/plain": [
       "   location_num  month state    gross_rev   fixed_cost  variable_cost  \\\n",
       "0             1      1    TX 48628171.020  9218156.690   24278189.230   \n",
       "1             1      2    TX 48107179.240 10587747.350   25116844.410   \n",
       "2             1      3    TX 64352278.290 10193873.770   33703499.830   \n",
       "3             1      4    TX 45943677.960  8764165.000   24037719.470   \n",
       "4             1      5    TX 32761434.980  8022116.430   16432119.180   \n",
       "\n",
       "   rental_cost  num_of_prod  owned       profit  quarter  \n",
       "0       365880         4452      0 14765945.100        1  \n",
       "1       365880         4452      0 12036707.480        1  \n",
       "2       365880         4452      0 20089024.690        1  \n",
       "3       365880         4452      0 12775913.490        2  \n",
       "4       365880         4452      0  7941319.370        2  "
      ]
     },
     "execution_count": 652,
     "metadata": {},
     "output_type": "execute_result"
    }
   ],
   "source": [
    "retail_df.head()"
   ]
  },
  {
   "cell_type": "code",
   "execution_count": 424,
   "metadata": {},
   "outputs": [],
   "source": [
    "# figure with google cloud auto ml tables"
   ]
  },
  {
   "cell_type": "code",
   "execution_count": null,
   "metadata": {},
   "outputs": [],
   "source": []
  },
  {
   "cell_type": "code",
   "execution_count": 614,
   "metadata": {},
   "outputs": [
    {
     "data": {
      "text/html": [
       "<div>\n",
       "<style scoped>\n",
       "    .dataframe tbody tr th:only-of-type {\n",
       "        vertical-align: middle;\n",
       "    }\n",
       "\n",
       "    .dataframe tbody tr th {\n",
       "        vertical-align: top;\n",
       "    }\n",
       "\n",
       "    .dataframe thead th {\n",
       "        text-align: right;\n",
       "    }\n",
       "</style>\n",
       "<table border=\"1\" class=\"dataframe\">\n",
       "  <thead>\n",
       "    <tr style=\"text-align: right;\">\n",
       "      <th></th>\n",
       "      <th>CA</th>\n",
       "      <th>CO</th>\n",
       "      <th>GA</th>\n",
       "      <th>IL</th>\n",
       "      <th>NJ</th>\n",
       "      <th>TX</th>\n",
       "      <th>WA</th>\n",
       "      <th>location_num</th>\n",
       "      <th>month</th>\n",
       "      <th>state</th>\n",
       "      <th>gross_rev</th>\n",
       "      <th>fixed_cost</th>\n",
       "      <th>variable_cost</th>\n",
       "      <th>rental_cost</th>\n",
       "      <th>num_of_prod</th>\n",
       "      <th>owned</th>\n",
       "      <th>profit</th>\n",
       "      <th>quarter</th>\n",
       "    </tr>\n",
       "  </thead>\n",
       "  <tbody>\n",
       "    <tr>\n",
       "      <th>0</th>\n",
       "      <td>0</td>\n",
       "      <td>0</td>\n",
       "      <td>0</td>\n",
       "      <td>0</td>\n",
       "      <td>0</td>\n",
       "      <td>1</td>\n",
       "      <td>0</td>\n",
       "      <td>1</td>\n",
       "      <td>1</td>\n",
       "      <td>TX</td>\n",
       "      <td>48628171.020</td>\n",
       "      <td>9218156.690</td>\n",
       "      <td>24278189.230</td>\n",
       "      <td>365880</td>\n",
       "      <td>4452</td>\n",
       "      <td>0</td>\n",
       "      <td>14765945.100</td>\n",
       "      <td>1</td>\n",
       "    </tr>\n",
       "    <tr>\n",
       "      <th>1</th>\n",
       "      <td>0</td>\n",
       "      <td>0</td>\n",
       "      <td>0</td>\n",
       "      <td>0</td>\n",
       "      <td>0</td>\n",
       "      <td>1</td>\n",
       "      <td>0</td>\n",
       "      <td>1</td>\n",
       "      <td>2</td>\n",
       "      <td>TX</td>\n",
       "      <td>48107179.240</td>\n",
       "      <td>10587747.350</td>\n",
       "      <td>25116844.410</td>\n",
       "      <td>365880</td>\n",
       "      <td>4452</td>\n",
       "      <td>0</td>\n",
       "      <td>12036707.480</td>\n",
       "      <td>1</td>\n",
       "    </tr>\n",
       "    <tr>\n",
       "      <th>2</th>\n",
       "      <td>0</td>\n",
       "      <td>0</td>\n",
       "      <td>0</td>\n",
       "      <td>0</td>\n",
       "      <td>0</td>\n",
       "      <td>1</td>\n",
       "      <td>0</td>\n",
       "      <td>1</td>\n",
       "      <td>3</td>\n",
       "      <td>TX</td>\n",
       "      <td>64352278.290</td>\n",
       "      <td>10193873.770</td>\n",
       "      <td>33703499.830</td>\n",
       "      <td>365880</td>\n",
       "      <td>4452</td>\n",
       "      <td>0</td>\n",
       "      <td>20089024.690</td>\n",
       "      <td>1</td>\n",
       "    </tr>\n",
       "    <tr>\n",
       "      <th>3</th>\n",
       "      <td>0</td>\n",
       "      <td>0</td>\n",
       "      <td>0</td>\n",
       "      <td>0</td>\n",
       "      <td>0</td>\n",
       "      <td>1</td>\n",
       "      <td>0</td>\n",
       "      <td>1</td>\n",
       "      <td>4</td>\n",
       "      <td>TX</td>\n",
       "      <td>45943677.960</td>\n",
       "      <td>8764165.000</td>\n",
       "      <td>24037719.470</td>\n",
       "      <td>365880</td>\n",
       "      <td>4452</td>\n",
       "      <td>0</td>\n",
       "      <td>12775913.490</td>\n",
       "      <td>2</td>\n",
       "    </tr>\n",
       "    <tr>\n",
       "      <th>4</th>\n",
       "      <td>0</td>\n",
       "      <td>0</td>\n",
       "      <td>0</td>\n",
       "      <td>0</td>\n",
       "      <td>0</td>\n",
       "      <td>1</td>\n",
       "      <td>0</td>\n",
       "      <td>1</td>\n",
       "      <td>5</td>\n",
       "      <td>TX</td>\n",
       "      <td>32761434.980</td>\n",
       "      <td>8022116.430</td>\n",
       "      <td>16432119.180</td>\n",
       "      <td>365880</td>\n",
       "      <td>4452</td>\n",
       "      <td>0</td>\n",
       "      <td>7941319.370</td>\n",
       "      <td>2</td>\n",
       "    </tr>\n",
       "  </tbody>\n",
       "</table>\n",
       "</div>"
      ],
      "text/plain": [
       "   CA  CO  GA  IL  NJ  TX  WA  location_num  month state    gross_rev  \\\n",
       "0   0   0   0   0   0   1   0             1      1    TX 48628171.020   \n",
       "1   0   0   0   0   0   1   0             1      2    TX 48107179.240   \n",
       "2   0   0   0   0   0   1   0             1      3    TX 64352278.290   \n",
       "3   0   0   0   0   0   1   0             1      4    TX 45943677.960   \n",
       "4   0   0   0   0   0   1   0             1      5    TX 32761434.980   \n",
       "\n",
       "    fixed_cost  variable_cost  rental_cost  num_of_prod  owned       profit  \\\n",
       "0  9218156.690   24278189.230       365880         4452      0 14765945.100   \n",
       "1 10587747.350   25116844.410       365880         4452      0 12036707.480   \n",
       "2 10193873.770   33703499.830       365880         4452      0 20089024.690   \n",
       "3  8764165.000   24037719.470       365880         4452      0 12775913.490   \n",
       "4  8022116.430   16432119.180       365880         4452      0  7941319.370   \n",
       "\n",
       "   quarter  \n",
       "0        1  \n",
       "1        1  \n",
       "2        1  \n",
       "3        2  \n",
       "4        2  "
      ]
     },
     "execution_count": 614,
     "metadata": {},
     "output_type": "execute_result"
    }
   ],
   "source": [
    "# One-hot encoding for State column\n",
    "dum = pd.get_dummies(retail_df['state'])\n",
    "\n",
    "ml_df = pd.concat([dum, retail_df], axis=1, sort=False)\n",
    "ml_df.head()"
   ]
  },
  {
   "cell_type": "code",
   "execution_count": 628,
   "metadata": {},
   "outputs": [
    {
     "name": "stdout",
     "output_type": "stream",
     "text": [
      "The training dataset has 3996 examples and 16 features.\n"
     ]
    }
   ],
   "source": [
    "ml_df_clean = ml_df.drop(['state'], axis=1)\n",
    "X = ml_df_clean.drop(['rental_cost'], axis=1).values\n",
    "y = ml_df_clean['rental_cost'].values\n",
    "print(\"The training dataset has {} examples and {} features.\".format(X.shape[0], X.shape[1]))"
   ]
  },
  {
   "cell_type": "code",
   "execution_count": 657,
   "metadata": {},
   "outputs": [
    {
     "data": {
      "text/plain": [
       "(3996, 16)"
      ]
     },
     "execution_count": 657,
     "metadata": {},
     "output_type": "execute_result"
    }
   ],
   "source": [
    "X.shape"
   ]
  },
  {
   "cell_type": "code",
   "execution_count": 658,
   "metadata": {},
   "outputs": [
    {
     "data": {
      "text/plain": [
       "(3996,)"
      ]
     },
     "execution_count": 658,
     "metadata": {},
     "output_type": "execute_result"
    }
   ],
   "source": [
    "y.shape"
   ]
  },
  {
   "cell_type": "code",
   "execution_count": 629,
   "metadata": {},
   "outputs": [],
   "source": [
    "from sklearn.linear_model import LinearRegression\n",
    "# from sklearn import cross_validation as cv\n",
    "from sklearn.model_selection import cross_validate\n",
    "# from sklearn.model_selection import KFold"
   ]
  },
  {
   "cell_type": "code",
   "execution_count": 630,
   "metadata": {},
   "outputs": [],
   "source": [
    "# lr = LinearRegression()\n",
    "# kfolds = cv.KFold(X.shape[0], n_folds=4, shuffle=True, random_state=42)\n",
    "# scores = cv.cross_val_score(lr, X, y, cv=kfolds)\n",
    "\n",
    "# print(\"Accuracy: %0.2f (+/- %0.2f)\" % (scores.mean(), scores.std()))"
   ]
  },
  {
   "cell_type": "code",
   "execution_count": null,
   "metadata": {},
   "outputs": [],
   "source": [
    "# gta testing"
   ]
  },
  {
   "cell_type": "code",
   "execution_count": 683,
   "metadata": {},
   "outputs": [
    {
     "data": {
      "text/plain": [
       "(3564, 16)"
      ]
     },
     "execution_count": 683,
     "metadata": {},
     "output_type": "execute_result"
    }
   ],
   "source": [
    "# Splitting Train and Test dataset\n",
    "\n",
    "ml_df_clean_X = pysqldf(\"SELECT CA,CO,GA,IL,NJ,TX,WA,location_num,month,gross_rev,fixed_cost,variable_cost,num_of_prod,owned,profit,quarter FROM ml_df_clean WHERE owned = 0\")\n",
    "ml_df_clean_X.shape"
   ]
  },
  {
   "cell_type": "code",
   "execution_count": 684,
   "metadata": {},
   "outputs": [
    {
     "data": {
      "text/plain": [
       "(3564, 1)"
      ]
     },
     "execution_count": 684,
     "metadata": {},
     "output_type": "execute_result"
    }
   ],
   "source": [
    "ml_df_clean_y = pysqldf(\"SELECT rental_cost FROM ml_df_clean WHERE owned = 0\")\n",
    "ml_df_clean_y.shape"
   ]
  },
  {
   "cell_type": "code",
   "execution_count": 685,
   "metadata": {},
   "outputs": [],
   "source": [
    "# create training and testing vars\n",
    "X_train, X_test, y_train, y_test = train_test_split(ml_df_clean_X, ml_df_clean_y, test_size=0.2)"
   ]
  },
  {
   "cell_type": "code",
   "execution_count": 686,
   "metadata": {},
   "outputs": [],
   "source": [
    "from sklearn import linear_model\n",
    "from sklearn.model_selection import train_test_split\n",
    "# fit a model\n",
    "lm = linear_model.LinearRegression()\n",
    "model = lm.fit(X_train, y_train)\n",
    "predictions = lm.predict(X_test)"
   ]
  },
  {
   "cell_type": "code",
   "execution_count": 687,
   "metadata": {},
   "outputs": [
    {
     "name": "stdout",
     "output_type": "stream",
     "text": [
      "(2851, 16) (2851, 1)\n",
      "(713, 16) (713, 1)\n"
     ]
    }
   ],
   "source": [
    "print(X_train.shape, y_train.shape)\n",
    "print (X_test.shape, y_test.shape)"
   ]
  },
  {
   "cell_type": "code",
   "execution_count": 688,
   "metadata": {},
   "outputs": [
    {
     "data": {
      "text/plain": [
       "Text(0, 0.5, 'Predictions')"
      ]
     },
     "execution_count": 688,
     "metadata": {},
     "output_type": "execute_result"
    },
    {
     "data": {
      "image/png": "[encoded data removed]",
      "text/plain": [
       "<Figure size 432x288 with 1 Axes>"
      ]
     },
     "metadata": {
      "needs_background": "light"
     },
     "output_type": "display_data"
    }
   ],
   "source": [
    "## The line / model\n",
    "plt.scatter(y_test, predictions)\n",
    "plt.xlabel('True Values')\n",
    "plt.ylabel('Predictions')"
   ]
  },
  {
   "cell_type": "code",
   "execution_count": 689,
   "metadata": {},
   "outputs": [
    {
     "name": "stdout",
     "output_type": "stream",
     "text": [
      "Score: 1.0\n"
     ]
    }
   ],
   "source": [
    "print('Score:', model.score(X_test, y_test))"
   ]
  },
  {
   "cell_type": "code",
   "execution_count": 690,
   "metadata": {},
   "outputs": [
    {
     "ename": "ValueError",
     "evalue": "Found input variables with inconsistent numbers of samples: [3996, 713]",
     "output_type": "error",
     "traceback": [
      "\u001b[0;31m---------------------------------------------------------------------------\u001b[0m",
      "\u001b[0;31mValueError\u001b[0m                                Traceback (most recent call last)",
      "\u001b[0;32m<ipython-input-690-d77d6082a49c>\u001b[0m in \u001b[0;36m<module>\u001b[0;34m\u001b[0m\n\u001b[0;32m----> 1\u001b[0;31m \u001b[0maccuracy\u001b[0m \u001b[0;34m=\u001b[0m \u001b[0mmetrics\u001b[0m\u001b[0;34m.\u001b[0m\u001b[0mr2_score\u001b[0m\u001b[0;34m(\u001b[0m\u001b[0my\u001b[0m\u001b[0;34m,\u001b[0m \u001b[0mpredictions\u001b[0m\u001b[0;34m)\u001b[0m\u001b[0;34m\u001b[0m\u001b[0;34m\u001b[0m\u001b[0m\n\u001b[0m\u001b[1;32m      2\u001b[0m \u001b[0mprint\u001b[0m\u001b[0;34m(\u001b[0m\u001b[0;34m'Cross-Predicted Accuracy:'\u001b[0m\u001b[0;34m,\u001b[0m \u001b[0maccuracy\u001b[0m\u001b[0;34m)\u001b[0m\u001b[0;34m\u001b[0m\u001b[0;34m\u001b[0m\u001b[0m\n",
      "\u001b[0;32m~/anaconda3/lib/python3.7/site-packages/sklearn/metrics/regression.py\u001b[0m in \u001b[0;36mr2_score\u001b[0;34m(y_true, y_pred, sample_weight, multioutput)\u001b[0m\n\u001b[1;32m    532\u001b[0m     \u001b[0;34m>>\u001b[0m\u001b[0;34m>\u001b[0m \u001b[0my_true\u001b[0m \u001b[0;34m=\u001b[0m \u001b[0;34m[\u001b[0m\u001b[0;36m1\u001b[0m\u001b[0;34m,\u001b[0m \u001b[0;36m2\u001b[0m\u001b[0;34m,\u001b[0m \u001b[0;36m3\u001b[0m\u001b[0;34m]\u001b[0m\u001b[0;34m\u001b[0m\u001b[0;34m\u001b[0m\u001b[0m\n\u001b[1;32m    533\u001b[0m     \u001b[0;34m>>\u001b[0m\u001b[0;34m>\u001b[0m \u001b[0my_pred\u001b[0m \u001b[0;34m=\u001b[0m \u001b[0;34m[\u001b[0m\u001b[0;36m3\u001b[0m\u001b[0;34m,\u001b[0m \u001b[0;36m2\u001b[0m\u001b[0;34m,\u001b[0m \u001b[0;36m1\u001b[0m\u001b[0;34m]\u001b[0m\u001b[0;34m\u001b[0m\u001b[0;34m\u001b[0m\u001b[0m\n\u001b[0;32m--> 534\u001b[0;31m     \u001b[0;34m>>\u001b[0m\u001b[0;34m>\u001b[0m \u001b[0mr2_score\u001b[0m\u001b[0;34m(\u001b[0m\u001b[0my_true\u001b[0m\u001b[0;34m,\u001b[0m \u001b[0my_pred\u001b[0m\u001b[0;34m)\u001b[0m\u001b[0;34m\u001b[0m\u001b[0;34m\u001b[0m\u001b[0m\n\u001b[0m\u001b[1;32m    535\u001b[0m     \u001b[0;34m-\u001b[0m\u001b[0;36m3.0\u001b[0m\u001b[0;34m\u001b[0m\u001b[0;34m\u001b[0m\u001b[0m\n\u001b[1;32m    536\u001b[0m     \"\"\"\n",
      "\u001b[0;32m~/anaconda3/lib/python3.7/site-packages/sklearn/metrics/regression.py\u001b[0m in \u001b[0;36m_check_reg_targets\u001b[0;34m(y_true, y_pred, multioutput)\u001b[0m\n\u001b[1;32m     73\u001b[0m         \u001b[0mjust\u001b[0m \u001b[0mthe\u001b[0m \u001b[0mcorresponding\u001b[0m \u001b[0margument\u001b[0m \u001b[0;32mif\u001b[0m\u001b[0;31m \u001b[0m\u001b[0;31m`\u001b[0m\u001b[0;31m`\u001b[0m\u001b[0mmultioutput\u001b[0m\u001b[0;31m`\u001b[0m\u001b[0;31m`\u001b[0m \u001b[0;32mis\u001b[0m \u001b[0ma\u001b[0m\u001b[0;34m\u001b[0m\u001b[0;34m\u001b[0m\u001b[0m\n\u001b[1;32m     74\u001b[0m         \u001b[0mcorrect\u001b[0m \u001b[0mkeyword\u001b[0m\u001b[0;34m.\u001b[0m\u001b[0;34m\u001b[0m\u001b[0;34m\u001b[0m\u001b[0m\n\u001b[0;32m---> 75\u001b[0;31m \u001b[0;34m\u001b[0m\u001b[0m\n\u001b[0m\u001b[1;32m     76\u001b[0m     \"\"\"\n\u001b[1;32m     77\u001b[0m     \u001b[0mcheck_consistent_length\u001b[0m\u001b[0;34m(\u001b[0m\u001b[0my_true\u001b[0m\u001b[0;34m,\u001b[0m \u001b[0my_pred\u001b[0m\u001b[0;34m)\u001b[0m\u001b[0;34m\u001b[0m\u001b[0;34m\u001b[0m\u001b[0m\n",
      "\u001b[0;32m~/anaconda3/lib/python3.7/site-packages/sklearn/utils/validation.py\u001b[0m in \u001b[0;36mcheck_consistent_length\u001b[0;34m(*arrays)\u001b[0m\n\u001b[1;32m    233\u001b[0m \u001b[0;34m\u001b[0m\u001b[0m\n\u001b[1;32m    234\u001b[0m def _ensure_sparse_format(spmatrix, accept_sparse, dtype, copy,\n\u001b[0;32m--> 235\u001b[0;31m                           force_all_finite, accept_large_sparse):\n\u001b[0m\u001b[1;32m    236\u001b[0m     \"\"\"Convert a sparse matrix to a given format.\n\u001b[1;32m    237\u001b[0m \u001b[0;34m\u001b[0m\u001b[0m\n",
      "\u001b[0;31mValueError\u001b[0m: Found input variables with inconsistent numbers of samples: [3996, 713]"
     ]
    }
   ],
   "source": [
    "accuracy = metrics.r2_score(y, predictions)\n",
    "print('Cross-Predicted Accuracy:', accuracy)"
   ]
  },
  {
   "cell_type": "code",
   "execution_count": null,
   "metadata": {},
   "outputs": [],
   "source": [
    "# gta test end here"
   ]
  },
  {
   "cell_type": "code",
   "execution_count": null,
   "metadata": {},
   "outputs": [],
   "source": []
  },
  {
   "cell_type": "code",
   "execution_count": 631,
   "metadata": {},
   "outputs": [],
   "source": [
    "# create training and testing vars\n",
    "X_train, X_test, y_train, y_test = train_test_split(ml_df_clean, y, test_size=0.2)"
   ]
  },
  {
   "cell_type": "code",
   "execution_count": 639,
   "metadata": {},
   "outputs": [],
   "source": [
    "from sklearn import linear_model\n",
    "from sklearn.model_selection import train_test_split\n",
    "# fit a model\n",
    "lm = linear_model.LinearRegression()\n",
    "model = lm.fit(X_train, y_train)\n",
    "predictions = lm.predict(X_test)"
   ]
  },
  {
   "cell_type": "code",
   "execution_count": 641,
   "metadata": {},
   "outputs": [
    {
     "name": "stdout",
     "output_type": "stream",
     "text": [
      "(3196, 17) (3196,)\n",
      "(800, 17) (800,)\n"
     ]
    }
   ],
   "source": [
    "print(X_train.shape, y_train.shape)\n",
    "print (X_test.shape, y_test.shape)"
   ]
  },
  {
   "cell_type": "code",
   "execution_count": 647,
   "metadata": {},
   "outputs": [
    {
     "data": {
      "text/plain": [
       "Text(0, 0.5, 'Predictions')"
      ]
     },
     "execution_count": 647,
     "metadata": {},
     "output_type": "execute_result"
    },
    {
     "data": {
      "image/png": "[encoded data removed]",
      "text/plain": [
       "<Figure size 432x288 with 1 Axes>"
      ]
     },
     "metadata": {
      "needs_background": "light"
     },
     "output_type": "display_data"
    }
   ],
   "source": [
    "## The line / model\n",
    "plt.scatter(y_test, predictions)\n",
    "plt.xlabel('True Values')\n",
    "plt.ylabel('Predictions')"
   ]
  },
  {
   "cell_type": "code",
   "execution_count": 646,
   "metadata": {},
   "outputs": [
    {
     "name": "stdout",
     "output_type": "stream",
     "text": [
      "Score: 1.0\n"
     ]
    }
   ],
   "source": [
    "print('Score:', model.score(X_test, y_test))"
   ]
  },
  {
   "cell_type": "code",
   "execution_count": null,
   "metadata": {},
   "outputs": [],
   "source": []
  },
  {
   "cell_type": "code",
   "execution_count": null,
   "metadata": {},
   "outputs": [],
   "source": []
  },
  {
   "cell_type": "code",
   "execution_count": null,
   "metadata": {},
   "outputs": [],
   "source": [
    "# t2 start"
   ]
  },
  {
   "cell_type": "code",
   "execution_count": 691,
   "metadata": {},
   "outputs": [
    {
     "data": {
      "text/html": [
       "<div>\n",
       "<style scoped>\n",
       "    .dataframe tbody tr th:only-of-type {\n",
       "        vertical-align: middle;\n",
       "    }\n",
       "\n",
       "    .dataframe tbody tr th {\n",
       "        vertical-align: top;\n",
       "    }\n",
       "\n",
       "    .dataframe thead th {\n",
       "        text-align: right;\n",
       "    }\n",
       "</style>\n",
       "<table border=\"1\" class=\"dataframe\">\n",
       "  <thead>\n",
       "    <tr style=\"text-align: right;\">\n",
       "      <th></th>\n",
       "      <th>CA</th>\n",
       "      <th>CO</th>\n",
       "      <th>GA</th>\n",
       "      <th>IL</th>\n",
       "      <th>NJ</th>\n",
       "      <th>TX</th>\n",
       "      <th>WA</th>\n",
       "      <th>location_num</th>\n",
       "      <th>month</th>\n",
       "      <th>gross_rev</th>\n",
       "      <th>fixed_cost</th>\n",
       "      <th>variable_cost</th>\n",
       "      <th>rental_cost</th>\n",
       "      <th>num_of_prod</th>\n",
       "      <th>owned</th>\n",
       "      <th>profit</th>\n",
       "      <th>quarter</th>\n",
       "    </tr>\n",
       "  </thead>\n",
       "  <tbody>\n",
       "    <tr>\n",
       "      <th>0</th>\n",
       "      <td>0</td>\n",
       "      <td>0</td>\n",
       "      <td>0</td>\n",
       "      <td>0</td>\n",
       "      <td>0</td>\n",
       "      <td>1</td>\n",
       "      <td>0</td>\n",
       "      <td>1</td>\n",
       "      <td>1</td>\n",
       "      <td>48628171.020</td>\n",
       "      <td>9218156.690</td>\n",
       "      <td>24278189.230</td>\n",
       "      <td>365880</td>\n",
       "      <td>4452</td>\n",
       "      <td>0</td>\n",
       "      <td>14765945.100</td>\n",
       "      <td>1</td>\n",
       "    </tr>\n",
       "    <tr>\n",
       "      <th>1</th>\n",
       "      <td>0</td>\n",
       "      <td>0</td>\n",
       "      <td>0</td>\n",
       "      <td>0</td>\n",
       "      <td>0</td>\n",
       "      <td>1</td>\n",
       "      <td>0</td>\n",
       "      <td>1</td>\n",
       "      <td>2</td>\n",
       "      <td>48107179.240</td>\n",
       "      <td>10587747.350</td>\n",
       "      <td>25116844.410</td>\n",
       "      <td>365880</td>\n",
       "      <td>4452</td>\n",
       "      <td>0</td>\n",
       "      <td>12036707.480</td>\n",
       "      <td>1</td>\n",
       "    </tr>\n",
       "    <tr>\n",
       "      <th>2</th>\n",
       "      <td>0</td>\n",
       "      <td>0</td>\n",
       "      <td>0</td>\n",
       "      <td>0</td>\n",
       "      <td>0</td>\n",
       "      <td>1</td>\n",
       "      <td>0</td>\n",
       "      <td>1</td>\n",
       "      <td>3</td>\n",
       "      <td>64352278.290</td>\n",
       "      <td>10193873.770</td>\n",
       "      <td>33703499.830</td>\n",
       "      <td>365880</td>\n",
       "      <td>4452</td>\n",
       "      <td>0</td>\n",
       "      <td>20089024.690</td>\n",
       "      <td>1</td>\n",
       "    </tr>\n",
       "    <tr>\n",
       "      <th>3</th>\n",
       "      <td>0</td>\n",
       "      <td>0</td>\n",
       "      <td>0</td>\n",
       "      <td>0</td>\n",
       "      <td>0</td>\n",
       "      <td>1</td>\n",
       "      <td>0</td>\n",
       "      <td>1</td>\n",
       "      <td>4</td>\n",
       "      <td>45943677.960</td>\n",
       "      <td>8764165.000</td>\n",
       "      <td>24037719.470</td>\n",
       "      <td>365880</td>\n",
       "      <td>4452</td>\n",
       "      <td>0</td>\n",
       "      <td>12775913.490</td>\n",
       "      <td>2</td>\n",
       "    </tr>\n",
       "    <tr>\n",
       "      <th>4</th>\n",
       "      <td>0</td>\n",
       "      <td>0</td>\n",
       "      <td>0</td>\n",
       "      <td>0</td>\n",
       "      <td>0</td>\n",
       "      <td>1</td>\n",
       "      <td>0</td>\n",
       "      <td>1</td>\n",
       "      <td>5</td>\n",
       "      <td>32761434.980</td>\n",
       "      <td>8022116.430</td>\n",
       "      <td>16432119.180</td>\n",
       "      <td>365880</td>\n",
       "      <td>4452</td>\n",
       "      <td>0</td>\n",
       "      <td>7941319.370</td>\n",
       "      <td>2</td>\n",
       "    </tr>\n",
       "  </tbody>\n",
       "</table>\n",
       "</div>"
      ],
      "text/plain": [
       "   CA  CO  GA  IL  NJ  TX  WA  location_num  month    gross_rev   fixed_cost  \\\n",
       "0   0   0   0   0   0   1   0             1      1 48628171.020  9218156.690   \n",
       "1   0   0   0   0   0   1   0             1      2 48107179.240 10587747.350   \n",
       "2   0   0   0   0   0   1   0             1      3 64352278.290 10193873.770   \n",
       "3   0   0   0   0   0   1   0             1      4 45943677.960  8764165.000   \n",
       "4   0   0   0   0   0   1   0             1      5 32761434.980  8022116.430   \n",
       "\n",
       "   variable_cost  rental_cost  num_of_prod  owned       profit  quarter  \n",
       "0   24278189.230       365880         4452      0 14765945.100        1  \n",
       "1   25116844.410       365880         4452      0 12036707.480        1  \n",
       "2   33703499.830       365880         4452      0 20089024.690        1  \n",
       "3   24037719.470       365880         4452      0 12775913.490        2  \n",
       "4   16432119.180       365880         4452      0  7941319.370        2  "
      ]
     },
     "execution_count": 691,
     "metadata": {},
     "output_type": "execute_result"
    }
   ],
   "source": [
    "ml_df_clean.head()"
   ]
  },
  {
   "cell_type": "code",
   "execution_count": null,
   "metadata": {},
   "outputs": [],
   "source": []
  },
  {
   "cell_type": "code",
   "execution_count": 694,
   "metadata": {},
   "outputs": [],
   "source": []
  },
  {
   "cell_type": "code",
   "execution_count": 695,
   "metadata": {},
   "outputs": [],
   "source": []
  },
  {
   "cell_type": "code",
   "execution_count": null,
   "metadata": {},
   "outputs": [],
   "source": []
  },
  {
   "cell_type": "code",
   "execution_count": null,
   "metadata": {},
   "outputs": [],
   "source": []
  },
  {
   "cell_type": "code",
   "execution_count": null,
   "metadata": {},
   "outputs": [],
   "source": []
  },
  {
   "cell_type": "code",
   "execution_count": null,
   "metadata": {},
   "outputs": [],
   "source": []
  },
  {
   "cell_type": "code",
   "execution_count": null,
   "metadata": {},
   "outputs": [],
   "source": []
  },
  {
   "cell_type": "code",
   "execution_count": null,
   "metadata": {},
   "outputs": [],
   "source": [
    "# t2 end"
   ]
  },
  {
   "cell_type": "code",
   "execution_count": 700,
   "metadata": {},
   "outputs": [
    {
     "data": {
      "text/html": [
       "<div>\n",
       "<style scoped>\n",
       "    .dataframe tbody tr th:only-of-type {\n",
       "        vertical-align: middle;\n",
       "    }\n",
       "\n",
       "    .dataframe tbody tr th {\n",
       "        vertical-align: top;\n",
       "    }\n",
       "\n",
       "    .dataframe thead th {\n",
       "        text-align: right;\n",
       "    }\n",
       "</style>\n",
       "<table border=\"1\" class=\"dataframe\">\n",
       "  <thead>\n",
       "    <tr style=\"text-align: right;\">\n",
       "      <th></th>\n",
       "      <th>CA</th>\n",
       "      <th>CO</th>\n",
       "      <th>GA</th>\n",
       "      <th>IL</th>\n",
       "      <th>NJ</th>\n",
       "      <th>TX</th>\n",
       "      <th>WA</th>\n",
       "      <th>location_num</th>\n",
       "      <th>month</th>\n",
       "      <th>gross_rev</th>\n",
       "      <th>fixed_cost</th>\n",
       "      <th>variable_cost</th>\n",
       "      <th>rental_cost</th>\n",
       "      <th>num_of_prod</th>\n",
       "      <th>owned</th>\n",
       "      <th>profit</th>\n",
       "      <th>quarter</th>\n",
       "    </tr>\n",
       "  </thead>\n",
       "  <tbody>\n",
       "    <tr>\n",
       "      <th>0</th>\n",
       "      <td>0</td>\n",
       "      <td>0</td>\n",
       "      <td>0</td>\n",
       "      <td>0</td>\n",
       "      <td>0</td>\n",
       "      <td>1</td>\n",
       "      <td>0</td>\n",
       "      <td>1</td>\n",
       "      <td>1</td>\n",
       "      <td>48628171.020</td>\n",
       "      <td>9218156.690</td>\n",
       "      <td>24278189.230</td>\n",
       "      <td>365880</td>\n",
       "      <td>4452</td>\n",
       "      <td>0</td>\n",
       "      <td>14765945.100</td>\n",
       "      <td>1</td>\n",
       "    </tr>\n",
       "    <tr>\n",
       "      <th>1</th>\n",
       "      <td>0</td>\n",
       "      <td>0</td>\n",
       "      <td>0</td>\n",
       "      <td>0</td>\n",
       "      <td>0</td>\n",
       "      <td>1</td>\n",
       "      <td>0</td>\n",
       "      <td>1</td>\n",
       "      <td>2</td>\n",
       "      <td>48107179.240</td>\n",
       "      <td>10587747.350</td>\n",
       "      <td>25116844.410</td>\n",
       "      <td>365880</td>\n",
       "      <td>4452</td>\n",
       "      <td>0</td>\n",
       "      <td>12036707.480</td>\n",
       "      <td>1</td>\n",
       "    </tr>\n",
       "    <tr>\n",
       "      <th>2</th>\n",
       "      <td>0</td>\n",
       "      <td>0</td>\n",
       "      <td>0</td>\n",
       "      <td>0</td>\n",
       "      <td>0</td>\n",
       "      <td>1</td>\n",
       "      <td>0</td>\n",
       "      <td>1</td>\n",
       "      <td>3</td>\n",
       "      <td>64352278.290</td>\n",
       "      <td>10193873.770</td>\n",
       "      <td>33703499.830</td>\n",
       "      <td>365880</td>\n",
       "      <td>4452</td>\n",
       "      <td>0</td>\n",
       "      <td>20089024.690</td>\n",
       "      <td>1</td>\n",
       "    </tr>\n",
       "    <tr>\n",
       "      <th>3</th>\n",
       "      <td>0</td>\n",
       "      <td>0</td>\n",
       "      <td>0</td>\n",
       "      <td>0</td>\n",
       "      <td>0</td>\n",
       "      <td>1</td>\n",
       "      <td>0</td>\n",
       "      <td>1</td>\n",
       "      <td>4</td>\n",
       "      <td>45943677.960</td>\n",
       "      <td>8764165.000</td>\n",
       "      <td>24037719.470</td>\n",
       "      <td>365880</td>\n",
       "      <td>4452</td>\n",
       "      <td>0</td>\n",
       "      <td>12775913.490</td>\n",
       "      <td>2</td>\n",
       "    </tr>\n",
       "    <tr>\n",
       "      <th>4</th>\n",
       "      <td>0</td>\n",
       "      <td>0</td>\n",
       "      <td>0</td>\n",
       "      <td>0</td>\n",
       "      <td>0</td>\n",
       "      <td>1</td>\n",
       "      <td>0</td>\n",
       "      <td>1</td>\n",
       "      <td>5</td>\n",
       "      <td>32761434.980</td>\n",
       "      <td>8022116.430</td>\n",
       "      <td>16432119.180</td>\n",
       "      <td>365880</td>\n",
       "      <td>4452</td>\n",
       "      <td>0</td>\n",
       "      <td>7941319.370</td>\n",
       "      <td>2</td>\n",
       "    </tr>\n",
       "  </tbody>\n",
       "</table>\n",
       "</div>"
      ],
      "text/plain": [
       "   CA  CO  GA  IL  NJ  TX  WA  location_num  month    gross_rev   fixed_cost  \\\n",
       "0   0   0   0   0   0   1   0             1      1 48628171.020  9218156.690   \n",
       "1   0   0   0   0   0   1   0             1      2 48107179.240 10587747.350   \n",
       "2   0   0   0   0   0   1   0             1      3 64352278.290 10193873.770   \n",
       "3   0   0   0   0   0   1   0             1      4 45943677.960  8764165.000   \n",
       "4   0   0   0   0   0   1   0             1      5 32761434.980  8022116.430   \n",
       "\n",
       "   variable_cost  rental_cost  num_of_prod  owned       profit  quarter  \n",
       "0   24278189.230       365880         4452      0 14765945.100        1  \n",
       "1   25116844.410       365880         4452      0 12036707.480        1  \n",
       "2   33703499.830       365880         4452      0 20089024.690        1  \n",
       "3   24037719.470       365880         4452      0 12775913.490        2  \n",
       "4   16432119.180       365880         4452      0  7941319.370        2  "
      ]
     },
     "execution_count": 700,
     "metadata": {},
     "output_type": "execute_result"
    }
   ],
   "source": [
    "ml_df_clean.head()"
   ]
  },
  {
   "cell_type": "code",
   "execution_count": 703,
   "metadata": {},
   "outputs": [
    {
     "data": {
      "text/plain": [
       "(3564, 17)"
      ]
     },
     "execution_count": 703,
     "metadata": {},
     "output_type": "execute_result"
    }
   ],
   "source": [
    "data = pysqldf(\"SELECT * FROM ml_df_clean WHERE owned = 0\")\n",
    "data.shape"
   ]
  },
  {
   "cell_type": "code",
   "execution_count": 710,
   "metadata": {},
   "outputs": [],
   "source": [
    "# splitting dataset the right way\n",
    "    \n",
    "y = ml_df_clean.rental_cost\n",
    "X = ml_df_clean.drop('rental_cost', axis=1)"
   ]
  },
  {
   "cell_type": "code",
   "execution_count": 711,
   "metadata": {},
   "outputs": [
    {
     "name": "stdout",
     "output_type": "stream",
     "text": [
      "\n",
      "X_train:\n",
      "\n",
      "      CA  CO  GA  IL  NJ  TX  WA  location_num  month    gross_rev  \\\n",
      "1084   0   0   0   0   0   1   0            91      5 21158149.330   \n",
      "1295   0   0   0   0   1   0   0           108     12 25134476.620   \n",
      "1306   0   0   0   0   0   1   0           109     11 27809608.290   \n",
      "312    0   0   0   1   0   0   0            27      1 13962429.750   \n",
      "2465   0   0   1   0   0   0   0           206      6 23625188.580   \n",
      "\n",
      "      fixed_cost  variable_cost  num_of_prod  owned      profit  quarter  \n",
      "1084 4420348.530   10011263.820         4583      0 6543926.980        2  \n",
      "1295 5299873.690   14398330.870         4435      0 5194682.060        4  \n",
      "1306 5527581.670   14443812.380         4578      0 7702194.240        4  \n",
      "312  4221586.290    7222314.420         4480      0 2389839.040        1  \n",
      "2465 5455158.280   14038136.250         4489      0 4042534.050        2  \n",
      "(3196, 16)\n",
      "\n",
      "X_test:\n",
      "\n",
      "      CA  CO  GA  IL  NJ  TX  WA  location_num  month    gross_rev  \\\n",
      "154    0   0   1   0   0   0   0            13     11  8260230.691   \n",
      "389    0   0   1   0   0   0   0            33      6 49897124.200   \n",
      "1344   1   0   0   0   0   0   0           113      1 38219272.470   \n",
      "2168   0   0   0   0   0   1   0           181      9 29700432.390   \n",
      "982    0   0   0   0   0   1   0            82     11 20520369.030   \n",
      "\n",
      "       fixed_cost  variable_cost  num_of_prod  owned       profit  quarter  \n",
      "154   1273073.150    4878805.110         4289      0  2036292.431        4  \n",
      "389  11570270.770   26869612.610         4552      0 11169320.820        2  \n",
      "1344  7160859.030   21081250.770         4526      0  9684532.670        1  \n",
      "2168  6359370.210   14189535.880         4494      0  9012916.300        3  \n",
      "982   4386239.930   10647027.510         4478      0  5434451.590        4  \n",
      "(800, 16)\n"
     ]
    }
   ],
   "source": [
    "X_train, X_test, y_train, y_test = train_test_split(X, y,test_size=0.2)\n",
    "print(\"\\nX_train:\\n\")\n",
    "print(X_train.head())\n",
    "print(X_train.shape)\n",
    "\n",
    "print(\"\\nX_test:\\n\")\n",
    "print(X_test.head())\n",
    "print(X_test.shape)"
   ]
  },
  {
   "cell_type": "code",
   "execution_count": 712,
   "metadata": {},
   "outputs": [],
   "source": [
    "from sklearn import linear_model\n",
    "from sklearn.model_selection import train_test_split\n",
    "# fit a model\n",
    "lm = linear_model.LinearRegression()\n",
    "model = lm.fit(X_train, y_train)\n",
    "predictions = lm.predict(X_test)"
   ]
  },
  {
   "cell_type": "code",
   "execution_count": 713,
   "metadata": {},
   "outputs": [
    {
     "name": "stdout",
     "output_type": "stream",
     "text": [
      "(3196, 16) (3196,)\n",
      "(800, 16) (800,)\n"
     ]
    }
   ],
   "source": [
    "print(X_train.shape, y_train.shape)\n",
    "print (X_test.shape, y_test.shape)"
   ]
  },
  {
   "cell_type": "code",
   "execution_count": 714,
   "metadata": {},
   "outputs": [
    {
     "data": {
      "text/plain": [
       "Text(0, 0.5, 'Predictions')"
      ]
     },
     "execution_count": 714,
     "metadata": {},
     "output_type": "execute_result"
    },
    {
     "data": {
      "image/png": "[encoded data removed]",
      "text/plain": [
       "<Figure size 432x288 with 1 Axes>"
      ]
     },
     "metadata": {
      "needs_background": "light"
     },
     "output_type": "display_data"
    }
   ],
   "source": [
    "## The line / model\n",
    "plt.scatter(y_test, predictions)\n",
    "plt.xlabel('True Values')\n",
    "plt.ylabel('Predictions')"
   ]
  },
  {
   "cell_type": "code",
   "execution_count": 715,
   "metadata": {},
   "outputs": [
    {
     "name": "stdout",
     "output_type": "stream",
     "text": [
      "Score: 1.0\n"
     ]
    }
   ],
   "source": [
    "print('Score:', model.score(X_test, y_test))"
   ]
  },
  {
   "cell_type": "code",
   "execution_count": null,
   "metadata": {},
   "outputs": [],
   "source": []
  },
  {
   "cell_type": "code",
   "execution_count": null,
   "metadata": {},
   "outputs": [],
   "source": []
  },
  {
   "cell_type": "markdown",
   "metadata": {},
   "source": [
    "# Part 3 "
   ]
  },
  {
   "cell_type": "markdown",
   "metadata": {},
   "source": [
    "### With the data now cleaned, please identify factors that have led to historical outperformance across locations. The CEO is principally focused on maximizing profit margin at each location. There is no single correct answer for this section. We are more interested in your problem-solving process than any singular answer."
   ]
  },
  {
   "cell_type": "code",
   "execution_count": null,
   "metadata": {},
   "outputs": [],
   "source": []
  },
  {
   "cell_type": "code",
   "execution_count": 472,
   "metadata": {},
   "outputs": [],
   "source": [
    "df_train = ml_df[['location_num', 'month', 'CA', 'CO', 'GA', 'IL', 'NJ', 'TX', 'WA', 'gross_rev', 'fixed_cost', 'num_of_prod', 'owned', 'profit', 'quarter_new']]\n",
    "\n",
    "df_test = ml_df['rental_cost']"
   ]
  },
  {
   "cell_type": "code",
   "execution_count": 473,
   "metadata": {},
   "outputs": [
    {
     "name": "stderr",
     "output_type": "stream",
     "text": [
      "/Users/utsav/anaconda3/lib/python3.7/site-packages/sklearn/ensemble/forest.py:246: FutureWarning: The default value of n_estimators will change from 10 in version 0.20 to 100 in 0.22.\n",
      "  \"10 in version 0.20 to 100 in 0.22.\", FutureWarning)\n"
     ]
    },
    {
     "name": "stdout",
     "output_type": "stream",
     "text": [
      "[0.25597983 0.02651024 0.00988388 0.00626175 0.00780258 0.01330819\n",
      " 0.00851011 0.01099993 0.00718773 0.10011481 0.10040508 0.25344613\n",
      " 0.09279091 0.09305298 0.01374583]\n"
     ]
    }
   ],
   "source": [
    "# Feature Importance\n",
    "\n",
    "from sklearn import metrics\n",
    "from sklearn.ensemble import ExtraTreesClassifier\n",
    "# fit an Extra Trees model to the data\n",
    "model = ExtraTreesClassifier()\n",
    "model.fit(df_train, df_test)\n",
    "# display the relative importance of each attribute\n",
    "print(model.feature_importances_)"
   ]
  },
  {
   "cell_type": "code",
   "execution_count": null,
   "metadata": {},
   "outputs": [],
   "source": [
    "# "
   ]
  },
  {
   "cell_type": "code",
   "execution_count": null,
   "metadata": {},
   "outputs": [],
   "source": []
  },
  {
   "cell_type": "code",
   "execution_count": null,
   "metadata": {},
   "outputs": [],
   "source": []
  }
 ],
 "metadata": {
  "kernelspec": {
   "display_name": "Python 3",
   "language": "python",
   "name": "python3"
  },
  "language_info": {
   "codemirror_mode": {
    "name": "ipython",
    "version": 3
   },
   "file_extension": ".py",
   "mimetype": "text/x-python",
   "name": "python",
   "nbconvert_exporter": "python",
   "pygments_lexer": "ipython3",
   "version": "3.7.3"
  }
 },
 "nbformat": 4,
 "nbformat_minor": 2
}
